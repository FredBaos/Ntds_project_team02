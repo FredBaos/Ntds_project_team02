{
 "cells": [
  {
   "cell_type": "code",
   "execution_count": 85,
   "metadata": {},
   "outputs": [],
   "source": [
    "# Imports\n",
    "import networkx as nx\n",
    "import pandas as pd\n",
    "import numpy as np\n",
    "import random\n",
    "import wikipediaapi\n",
    "import wikipedia\n",
    "import time\n",
    "import matplotlib.pyplot as plt\n",
    "from scipy import spatial\n",
    "from gensim.models import Word2Vec\n",
    "from node2vec import Node2Vec\n",
    "from sklearn.decomposition import PCA\n",
    "from sklearn.manifold import TSNE\n",
    "import spacy\n",
    "import en_core_web_md # python -m spacy download en_core_web_md\n",
    "\n",
    "wiki_wiki = wikipediaapi.Wikipedia('en')"
   ]
  },
  {
   "cell_type": "code",
   "execution_count": 21,
   "metadata": {},
   "outputs": [
    {
     "data": {
      "text/html": [
       "<div>\n",
       "<style scoped>\n",
       "    .dataframe tbody tr th:only-of-type {\n",
       "        vertical-align: middle;\n",
       "    }\n",
       "\n",
       "    .dataframe tbody tr th {\n",
       "        vertical-align: top;\n",
       "    }\n",
       "\n",
       "    .dataframe thead th {\n",
       "        text-align: right;\n",
       "    }\n",
       "</style>\n",
       "<table border=\"1\" class=\"dataframe\">\n",
       "  <thead>\n",
       "    <tr style=\"text-align: right;\">\n",
       "      <th></th>\n",
       "      <th>source</th>\n",
       "      <th>target</th>\n",
       "      <th>depth</th>\n",
       "    </tr>\n",
       "  </thead>\n",
       "  <tbody>\n",
       "    <tr>\n",
       "      <td>0</td>\n",
       "      <td>space research</td>\n",
       "      <td>advances in space research</td>\n",
       "      <td>1</td>\n",
       "    </tr>\n",
       "    <tr>\n",
       "      <td>1</td>\n",
       "      <td>space research</td>\n",
       "      <td>benefits of space exploration</td>\n",
       "      <td>1</td>\n",
       "    </tr>\n",
       "    <tr>\n",
       "      <td>2</td>\n",
       "      <td>space research</td>\n",
       "      <td>committee on space research</td>\n",
       "      <td>1</td>\n",
       "    </tr>\n",
       "    <tr>\n",
       "      <td>3</td>\n",
       "      <td>space research</td>\n",
       "      <td>deep space exploration</td>\n",
       "      <td>1</td>\n",
       "    </tr>\n",
       "    <tr>\n",
       "      <td>4</td>\n",
       "      <td>space research</td>\n",
       "      <td>lists of space programs</td>\n",
       "      <td>1</td>\n",
       "    </tr>\n",
       "  </tbody>\n",
       "</table>\n",
       "</div>"
      ],
      "text/plain": [
       "           source                         target  depth\n",
       "0  space research     advances in space research      1\n",
       "1  space research  benefits of space exploration      1\n",
       "2  space research    committee on space research      1\n",
       "3  space research         deep space exploration      1\n",
       "4  space research        lists of space programs      1"
      ]
     },
     "execution_count": 21,
     "metadata": {},
     "output_type": "execute_result"
    }
   ],
   "source": [
    "# Loading data\n",
    "edge_list = pd.read_csv(\"small_data.tsv\", sep = \"\\t\")\n",
    "edge_list.head()"
   ]
  },
  {
   "cell_type": "code",
   "execution_count": 22,
   "metadata": {},
   "outputs": [
    {
     "name": "stdout",
     "output_type": "stream",
     "text": [
      "Number of nodes:  2096\n"
     ]
    }
   ],
   "source": [
    "# Building graph\n",
    "graph = nx.from_pandas_edgelist(edge_list, \"source\", \"target\", edge_attr=True)\n",
    "print(\"Number of nodes: \", len(graph))"
   ]
  },
  {
   "cell_type": "markdown",
   "metadata": {},
   "source": [
    "# Node to vector representations\n",
    "\n",
    "Algorithms:\n",
    "- Deepwalk\n",
    "- Node2Vec\n",
    "\n",
    "Nodes appearing in the same context will have similar embeddings. The context is defined as sequences of nodes built by random walks.\n",
    "\n",
    "Why not just recommend neighboring nodes instead of bothering with embeddings ? The connectedness of the nodes in a graph does not necessarily mean that they are semantically similar. Besides embeddings allow us to do linear algebra on the representations. This is especially useful for queries with multiple keywords."
   ]
  },
  {
   "cell_type": "code",
   "execution_count": 23,
   "metadata": {},
   "outputs": [],
   "source": [
    "class Deepwalk():\n",
    "    \"\"\"DeepWalk algorithm\"\"\"\n",
    "    \n",
    "    def __init__(self, graph, walk_length=10, num_walks=5):\n",
    "        \"\"\"Inits a Deepwalk instance.\n",
    "        \n",
    "        Args:\n",
    "            graph: graph to embed\n",
    "            walk_length: number of steps per walk\n",
    "            num_walks: number of walks per starting node\n",
    "        \"\"\"\n",
    "        \n",
    "        self.graph = graph\n",
    "        self.walk_length = walk_length\n",
    "        self.num_walks = num_walks\n",
    "        \n",
    "        self.walks = []\n",
    "\n",
    "        for node in graph.nodes():\n",
    "            for i in range(self.num_walks):\n",
    "                self.walks.append(self.build_walk(node))\n",
    "        \n",
    "    def build_walk(self, node, repeat_nodes=True):\n",
    "    \n",
    "        walk = [node]\n",
    "    \n",
    "        for i in range(self.walk_length-1):\n",
    "            neighbors = list(self.graph.neighbors(node))\n",
    "            if not repeat_nodes:\n",
    "                neighbors = list(set(neighbors)-set(walk))\n",
    "            if len(neighbors) == 0:\n",
    "                break\n",
    "            next_node = random.choice(neighbors)\n",
    "            walk.append(next_node)\n",
    "            node = next_node\n",
    "\n",
    "        return walk\n",
    "    \n",
    "    def fit(self, window=5, size=100, min_count=5, sg=1, hs=0, negative=10, iter=20):\n",
    "        \"\"\"Train Word2Vec model with skip-gram and negative sampling based on pre-computed walks\"\"\"\n",
    "        return Word2Vec(self.walks, size=size, window=window, \n",
    "                        min_count=min_count, sg=sg, hs=hs, negative=negative, iter=iter)"
   ]
  },
  {
   "cell_type": "code",
   "execution_count": 24,
   "metadata": {},
   "outputs": [],
   "source": [
    "deepwalk = Deepwalk(graph, walk_length=10, num_walks=5)\n",
    "deepwalk_model = deepwalk.fit(window=5, size=100, min_count=5, sg=1, hs=0, negative=10, iter=20)"
   ]
  },
  {
   "cell_type": "code",
   "execution_count": 25,
   "metadata": {},
   "outputs": [],
   "source": [
    "node2vec = Node2Vec(graph, walk_length=10, num_walks=5, quiet=True)\n",
    "node2vec_model = node2vec.fit(window=5, size=100, min_count=5, sg=1, hs=0, negative=10, iter=20)"
   ]
  },
  {
   "cell_type": "code",
   "execution_count": 154,
   "metadata": {},
   "outputs": [
    {
     "data": {
      "text/plain": [
       "[('space flight participant', 0.7823789715766907),\n",
       " ('space tourism society', 0.660976767539978),\n",
       " ('reduced-gravity aircraft', 0.6414527297019958),\n",
       " ('seti', 0.6388373374938965),\n",
       " ('micro-g environment', 0.6359100341796875),\n",
       " ('astronaut training', 0.634943962097168),\n",
       " ('rocketship tours', 0.6173993945121765),\n",
       " ('space adventures', 0.6058911085128784),\n",
       " ('potential cultural impact of extraterrestrial contact', 0.5728671550750732),\n",
       " ('nuclear powers', 0.5621455311775208)]"
      ]
     },
     "execution_count": 154,
     "metadata": {},
     "output_type": "execute_result"
    }
   ],
   "source": [
    "deepwalk_model.wv.similar_by_word('space tourism')"
   ]
  },
  {
   "cell_type": "code",
   "execution_count": 155,
   "metadata": {},
   "outputs": [
    {
     "data": {
      "text/plain": [
       "[('space flight participant', 0.7747988700866699),\n",
       " ('space tourism society', 0.7119519710540771),\n",
       " ('astronaut training', 0.6671200394630432),\n",
       " ('reduced-gravity aircraft', 0.6599216461181641),\n",
       " ('nuclear powers', 0.6450135707855225),\n",
       " ('rocketship tours', 0.6331580281257629),\n",
       " ('micro-g environment', 0.6157208681106567),\n",
       " ('seti', 0.587518036365509),\n",
       " ('spinal disc herniation', 0.5830220580101013),\n",
       " ('renal stone formation in space', 0.5714685320854187)]"
      ]
     },
     "execution_count": 155,
     "metadata": {},
     "output_type": "execute_result"
    }
   ],
   "source": [
    "node2vec_model.wv.similar_by_word('space tourism')"
   ]
  },
  {
   "cell_type": "code",
   "execution_count": 28,
   "metadata": {},
   "outputs": [],
   "source": [
    "nodes_to_plot = ['lunar escape systems','soviet moonshot', 'soyuz 7k-l1', \n",
    "                 'moon landing','space food', 'food systems on space exploration missions', \n",
    "                 'meal, ready-to-eat','space law', 'metalaw', 'moon treaty', \n",
    "                 'legal aspects of computing','astronaut training', 'reduced-gravity aircraft', \n",
    "                 'space adaptation syndrome', 'micro-g environment']"
   ]
  },
  {
   "cell_type": "code",
   "execution_count": 29,
   "metadata": {},
   "outputs": [],
   "source": [
    "def plot_projection(model, nodes, dim=2, projection_method=PCA):\n",
    "    \"\"\"Plot the projection of embeddings after applying a dimensionality reduction method.\"\"\"\n",
    "    node_vectors = model.wv[nodes]\n",
    "    projection = projection_method(n_components=dim)\n",
    "    projections = projection.fit_transform(node_vectors)\n",
    "    \n",
    "    plt.figure(figsize=(10,7))\n",
    "    plt.scatter(projections[:,0], projections[:,1])\n",
    "    for i, node in enumerate(nodes):\n",
    "        plt.annotate(node, xy=(projections[i,0], projections[i,1]))\n",
    "    plt.title(\"{} over first {} components\".format(type(projection).__name__, dim))\n",
    "    plt.show()"
   ]
  },
  {
   "cell_type": "code",
   "execution_count": 30,
   "metadata": {},
   "outputs": [
    {
     "data": {
      "image/png": "[encoded data removed]",
      "text/plain": [
       "<Figure size 720x504 with 1 Axes>"
      ]
     },
     "metadata": {
      "needs_background": "light"
     },
     "output_type": "display_data"
    }
   ],
   "source": [
    "plot_projection(deepwalk_model, nodes_to_plot)"
   ]
  },
  {
   "cell_type": "code",
   "execution_count": 34,
   "metadata": {},
   "outputs": [
    {
     "data": {
      "image/png": "[encoded data removed]",
      "text/plain": [
       "<Figure size 720x504 with 1 Axes>"
      ]
     },
     "metadata": {
      "needs_background": "light"
     },
     "output_type": "display_data"
    }
   ],
   "source": [
    "plot_projection(node2vec_model, nodes_to_plot)"
   ]
  },
  {
   "cell_type": "code",
   "execution_count": 95,
   "metadata": {},
   "outputs": [],
   "source": [
    "def get_url(node):\n",
    "    return \"https://en.wikipedia.org/wiki/\" + node.replace(\" \", \"_\")\n",
    "\n",
    "def get_url_robust(node):\n",
    "    \"Robust to spelling and lower case/upper case errors\"\n",
    "    return wikipedia.page(node).url\n",
    "\n",
    "urls = [get_url(node) for node in graph.nodes()]"
   ]
  },
  {
   "cell_type": "markdown",
   "metadata": {},
   "source": [
    "# Combining text representations and graph geometry\n",
    "\n",
    "- Obtain representations of summaries as word2vec embeddings\n",
    "- Perform some graph signal processing (for instance denoising) on the representations just as in HW2 Part 2-3\n",
    "\n",
    "## Scalability limitations\n",
    "\n",
    "- We would need a lot of computational resources for parsing the text and learning word embeddings from all these summaries. However one can use pre-trained embeddings to fix this issue.\n",
    "- Applying ideal filters require an explicit decomposition of the graph laplacian which is not scalable. However one can resort to an ARMA filter."
   ]
  },
  {
   "cell_type": "code",
   "execution_count": 36,
   "metadata": {},
   "outputs": [],
   "source": [
    "nlp = en_core_web_md.load()"
   ]
  },
  {
   "cell_type": "code",
   "execution_count": 37,
   "metadata": {},
   "outputs": [],
   "source": [
    "def get_summary(node, num_chars=1000):\n",
    "        return wiki_wiki.page(node).summary[:num_chars]\n",
    "    \n",
    "def get_summary_robust(node, num_chars=1000):\n",
    "    \"Robust to spelling and lower case/upper case errors\"\n",
    "        try:\n",
    "            return wikipedia.summary(node, chars=num_chars)[:num_chars] # summary may not return exactly num_chars\n",
    "        except:\n",
    "            ''"
   ]
  },
  {
   "cell_type": "code",
   "execution_count": 79,
   "metadata": {},
   "outputs": [],
   "source": [
    "# Scrapping summary for each article\n",
    "# ~25 sc per 100 articles. Not very efficient since we make requests sequentially and not in batch\n",
    "#t = time.time()\n",
    "#summaries = [get_summary(node, num_chars=10) for node in graph.nodes()]\n",
    "#print(\"Scrapped summaries in {0:.0f} seconds\".format(time.time()-t))"
   ]
  },
  {
   "cell_type": "code",
   "execution_count": 132,
   "metadata": {},
   "outputs": [],
   "source": [
    "mean_embeddings = [nlp(summary).vector for summary in summaries]"
   ]
  },
  {
   "cell_type": "code",
   "execution_count": 140,
   "metadata": {},
   "outputs": [],
   "source": [
    "def compute_similarities(summary, corpus, top_n=10):\n",
    "    similarities = [(1 - spatial.distance.cosine(summary, s)) for s in corpus]\n",
    "    top_n_indexes = np.argsort(np.asarray(similarities))[-top_n:][::-1]\n",
    "    top_n_similarities = [similarities[i] for i in top_n_indexes]\n",
    "    return list(zip(top_n_indexes, top_n_similarities))"
   ]
  },
  {
   "cell_type": "code",
   "execution_count": 144,
   "metadata": {},
   "outputs": [],
   "source": [
    "def arma_tikhonov(x: np.ndarray, laplacian: np.ndarray, alpha: float, max_iter=50):\n",
    "    \"\"\" Return an array of the same shape as x.\"\"\"\n",
    "    # We initialized y arbitrarily (to the recommended value of x) \n",
    "    # as it is guaranteed to converge (as long as alpha * lambda_max < 1).\n",
    "    y = x\n",
    "    for _ in range(max_iter):\n",
    "        y = - alpha * laplacian @ y + x\n",
    "    return y\n",
    "\n",
    "def compute_laplacian(adjacency: np.ndarray, normalize: bool):\n",
    "    \"\"\" Return:\n",
    "        L (n x n ndarray): combinatorial or symmetric normalized Laplacian.\n",
    "    \"\"\"\n",
    "    degree = np.sum(adjacency, axis=1)\n",
    "    degree_matrix = np.diag(degree)\n",
    "    laplacian = degree_matrix - adjacency\n",
    "    \n",
    "    if normalize:\n",
    "        degree_sqrt = np.power(degree, -1/2)\n",
    "        degree_sqrt_matrix = np.diag(degree_sqrt)\n",
    "        laplacian = degree_sqrt_matrix @ laplacian @ degree_sqrt_matrix\n",
    "        \n",
    "    return laplacian\n",
    "\n",
    "def spectral_decomposition(laplacian: np.ndarray):\n",
    "    \"\"\" Return:\n",
    "        lamb (np.array): eigenvalues of the Laplacian\n",
    "        U (np.ndarray): corresponding eigenvectors.\n",
    "    \"\"\"    \n",
    "    # As we know that the Laplacian is real symmetric matrix, we can use eigh from np.linalg.\n",
    "    return np.linalg.eigh(laplacian)\n",
    "\n",
    "def GFT(signal: np.ndarray):\n",
    "    return U.T @ signal\n",
    "def iGFT(fourier_coefficients: np.ndarray):\n",
    "    return U @ fourier_coefficients\n",
    "\n",
    "def ideal_graph_filter(x: np.ndarray, spectral_response: np.ndarray):\n",
    "    \"\"\"Return a filtered signal.\"\"\"\n",
    "    return iGFT(GFT(x) * spectral_response)"
   ]
  },
  {
   "cell_type": "code",
   "execution_count": 156,
   "metadata": {},
   "outputs": [
    {
     "ename": "ValueError",
     "evalue": "shapes (2096,2096) and (100,300) not aligned: 2096 (dim 1) != 100 (dim 0)",
     "output_type": "error",
     "traceback": [
      "\u001b[0;31m---------------------------------------------------------------------------\u001b[0m",
      "\u001b[0;31mValueError\u001b[0m                                Traceback (most recent call last)",
      "\u001b[0;32m<ipython-input-156-dbc79cb22e23>\u001b[0m in \u001b[0;36m<module>\u001b[0;34m\u001b[0m\n\u001b[1;32m      5\u001b[0m \u001b[0malpha\u001b[0m \u001b[0;34m=\u001b[0m \u001b[0;36m0.99\u001b[0m \u001b[0;34m/\u001b[0m \u001b[0mnp\u001b[0m\u001b[0;34m.\u001b[0m\u001b[0mmax\u001b[0m\u001b[0;34m(\u001b[0m\u001b[0mlam\u001b[0m\u001b[0;34m)\u001b[0m\u001b[0;34m\u001b[0m\u001b[0;34m\u001b[0m\u001b[0m\n\u001b[1;32m      6\u001b[0m \u001b[0mideal_tk\u001b[0m \u001b[0;34m=\u001b[0m  \u001b[0;34m[\u001b[0m\u001b[0;36m1\u001b[0m \u001b[0;34m/\u001b[0m \u001b[0;34m(\u001b[0m\u001b[0;36m1\u001b[0m \u001b[0;34m+\u001b[0m \u001b[0malpha\u001b[0m \u001b[0;34m*\u001b[0m \u001b[0mlamb\u001b[0m\u001b[0;34m)\u001b[0m \u001b[0;32mfor\u001b[0m \u001b[0mlamb\u001b[0m \u001b[0;32min\u001b[0m \u001b[0mlam\u001b[0m\u001b[0;34m]\u001b[0m\u001b[0;34m\u001b[0m\u001b[0;34m\u001b[0m\u001b[0m\n\u001b[0;32m----> 7\u001b[0;31m \u001b[0membeddings_tk\u001b[0m \u001b[0;34m=\u001b[0m \u001b[0mideal_graph_filter\u001b[0m\u001b[0;34m(\u001b[0m\u001b[0membeddings\u001b[0m\u001b[0;34m,\u001b[0m \u001b[0mideal_tk\u001b[0m\u001b[0;34m)\u001b[0m\u001b[0;34m\u001b[0m\u001b[0;34m\u001b[0m\u001b[0m\n\u001b[0m\u001b[1;32m      8\u001b[0m \u001b[0membeddings_arma\u001b[0m \u001b[0;34m=\u001b[0m \u001b[0marma_tikhonov\u001b[0m\u001b[0;34m(\u001b[0m\u001b[0membeddings\u001b[0m\u001b[0;34m,\u001b[0m \u001b[0mlaplacian\u001b[0m\u001b[0;34m,\u001b[0m \u001b[0malpha\u001b[0m\u001b[0;34m)\u001b[0m\u001b[0;34m\u001b[0m\u001b[0;34m\u001b[0m\u001b[0m\n",
      "\u001b[0;32m<ipython-input-144-49c938d3d446>\u001b[0m in \u001b[0;36mideal_graph_filter\u001b[0;34m(x, spectral_response)\u001b[0m\n\u001b[1;32m     38\u001b[0m \u001b[0;32mdef\u001b[0m \u001b[0mideal_graph_filter\u001b[0m\u001b[0;34m(\u001b[0m\u001b[0mx\u001b[0m\u001b[0;34m:\u001b[0m \u001b[0mnp\u001b[0m\u001b[0;34m.\u001b[0m\u001b[0mndarray\u001b[0m\u001b[0;34m,\u001b[0m \u001b[0mspectral_response\u001b[0m\u001b[0;34m:\u001b[0m \u001b[0mnp\u001b[0m\u001b[0;34m.\u001b[0m\u001b[0mndarray\u001b[0m\u001b[0;34m)\u001b[0m\u001b[0;34m:\u001b[0m\u001b[0;34m\u001b[0m\u001b[0;34m\u001b[0m\u001b[0m\n\u001b[1;32m     39\u001b[0m     \u001b[0;34m\"\"\"Return a filtered signal.\"\"\"\u001b[0m\u001b[0;34m\u001b[0m\u001b[0;34m\u001b[0m\u001b[0m\n\u001b[0;32m---> 40\u001b[0;31m     \u001b[0;32mreturn\u001b[0m \u001b[0miGFT\u001b[0m\u001b[0;34m(\u001b[0m\u001b[0mGFT\u001b[0m\u001b[0;34m(\u001b[0m\u001b[0mx\u001b[0m\u001b[0;34m)\u001b[0m \u001b[0;34m*\u001b[0m \u001b[0mspectral_response\u001b[0m\u001b[0;34m)\u001b[0m\u001b[0;34m\u001b[0m\u001b[0;34m\u001b[0m\u001b[0m\n\u001b[0m",
      "\u001b[0;32m<ipython-input-144-49c938d3d446>\u001b[0m in \u001b[0;36mGFT\u001b[0;34m(signal)\u001b[0m\n\u001b[1;32m     32\u001b[0m \u001b[0;34m\u001b[0m\u001b[0m\n\u001b[1;32m     33\u001b[0m \u001b[0;32mdef\u001b[0m \u001b[0mGFT\u001b[0m\u001b[0;34m(\u001b[0m\u001b[0msignal\u001b[0m\u001b[0;34m:\u001b[0m \u001b[0mnp\u001b[0m\u001b[0;34m.\u001b[0m\u001b[0mndarray\u001b[0m\u001b[0;34m)\u001b[0m\u001b[0;34m:\u001b[0m\u001b[0;34m\u001b[0m\u001b[0;34m\u001b[0m\u001b[0m\n\u001b[0;32m---> 34\u001b[0;31m     \u001b[0;32mreturn\u001b[0m \u001b[0mU\u001b[0m\u001b[0;34m.\u001b[0m\u001b[0mT\u001b[0m \u001b[0;34m@\u001b[0m \u001b[0msignal\u001b[0m\u001b[0;34m\u001b[0m\u001b[0;34m\u001b[0m\u001b[0m\n\u001b[0m\u001b[1;32m     35\u001b[0m \u001b[0;32mdef\u001b[0m \u001b[0miGFT\u001b[0m\u001b[0;34m(\u001b[0m\u001b[0mfourier_coefficients\u001b[0m\u001b[0;34m:\u001b[0m \u001b[0mnp\u001b[0m\u001b[0;34m.\u001b[0m\u001b[0mndarray\u001b[0m\u001b[0;34m)\u001b[0m\u001b[0;34m:\u001b[0m\u001b[0;34m\u001b[0m\u001b[0;34m\u001b[0m\u001b[0m\n\u001b[1;32m     36\u001b[0m     \u001b[0;32mreturn\u001b[0m \u001b[0mU\u001b[0m \u001b[0;34m@\u001b[0m \u001b[0mfourier_coefficients\u001b[0m\u001b[0;34m\u001b[0m\u001b[0;34m\u001b[0m\u001b[0m\n",
      "\u001b[0;31mValueError\u001b[0m: shapes (2096,2096) and (100,300) not aligned: 2096 (dim 1) != 100 (dim 0)"
     ]
    }
   ],
   "source": [
    "embeddings = np.array(mean_embeddings)\n",
    "adjacency = np.asarray(nx.to_numpy_matrix(graph))\n",
    "laplacian = compute_laplacian(adjacency, normalize=True)\n",
    "lam, U = spectral_decomposition(laplacian)\n",
    "alpha = 0.99 / np.max(lam)\n",
    "ideal_tk =  [1 / (1 + alpha * lamb) for lamb in lam]\n",
    "embeddings_tk = ideal_graph_filter(embeddings, ideal_tk)\n",
    "embeddings_arma = arma_tikhonov(embeddings, laplacian, alpha)"
   ]
  }
 ],
 "metadata": {
  "kernelspec": {
   "display_name": "Python 3",
   "language": "python",
   "name": "python3"
  },
  "language_info": {
   "codemirror_mode": {
    "name": "ipython",
    "version": 3
   },
   "file_extension": ".py",
   "mimetype": "text/x-python",
   "name": "python",
   "nbconvert_exporter": "python",
   "pygments_lexer": "ipython3",
   "version": "3.6.9"
  }
 },
 "nbformat": 4,
 "nbformat_minor": 2
}
