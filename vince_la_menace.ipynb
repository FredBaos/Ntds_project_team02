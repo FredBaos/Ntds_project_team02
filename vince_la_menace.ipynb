{
 "cells": [
  {
   "cell_type": "code",
   "execution_count": 160,
   "metadata": {},
   "outputs": [],
   "source": [
    "# Imports\n",
    "import networkx as nx\n",
    "import pandas as pd\n",
    "import numpy as np\n",
    "import random\n",
    "import wikipediaapi\n",
    "import wikipedia\n",
    "import time\n",
    "from operator import itemgetter\n",
    "import matplotlib.pyplot as plt\n",
    "from scipy import spatial\n",
    "from gensim.models import Word2Vec\n",
    "from node2vec import Node2Vec\n",
    "from sklearn.decomposition import PCA\n",
    "from sklearn.manifold import TSNE\n",
    "import spacy\n",
    "import en_core_web_md # python -m spacy download en_core_web_md\n",
    "\n",
    "wiki_wiki = wikipediaapi.Wikipedia('en')"
   ]
  },
  {
   "cell_type": "code",
   "execution_count": 161,
   "metadata": {},
   "outputs": [
    {
     "data": {
      "text/html": [
       "<div>\n",
       "<style scoped>\n",
       "    .dataframe tbody tr th:only-of-type {\n",
       "        vertical-align: middle;\n",
       "    }\n",
       "\n",
       "    .dataframe tbody tr th {\n",
       "        vertical-align: top;\n",
       "    }\n",
       "\n",
       "    .dataframe thead th {\n",
       "        text-align: right;\n",
       "    }\n",
       "</style>\n",
       "<table border=\"1\" class=\"dataframe\">\n",
       "  <thead>\n",
       "    <tr style=\"text-align: right;\">\n",
       "      <th></th>\n",
       "      <th>source</th>\n",
       "      <th>target</th>\n",
       "      <th>depth</th>\n",
       "    </tr>\n",
       "  </thead>\n",
       "  <tbody>\n",
       "    <tr>\n",
       "      <td>0</td>\n",
       "      <td>space research</td>\n",
       "      <td>advances in space research</td>\n",
       "      <td>1</td>\n",
       "    </tr>\n",
       "    <tr>\n",
       "      <td>1</td>\n",
       "      <td>space research</td>\n",
       "      <td>benefits of space exploration</td>\n",
       "      <td>1</td>\n",
       "    </tr>\n",
       "    <tr>\n",
       "      <td>2</td>\n",
       "      <td>space research</td>\n",
       "      <td>committee on space research</td>\n",
       "      <td>1</td>\n",
       "    </tr>\n",
       "    <tr>\n",
       "      <td>3</td>\n",
       "      <td>space research</td>\n",
       "      <td>deep space exploration</td>\n",
       "      <td>1</td>\n",
       "    </tr>\n",
       "    <tr>\n",
       "      <td>4</td>\n",
       "      <td>space research</td>\n",
       "      <td>lists of space programs</td>\n",
       "      <td>1</td>\n",
       "    </tr>\n",
       "  </tbody>\n",
       "</table>\n",
       "</div>"
      ],
      "text/plain": [
       "           source                         target  depth\n",
       "0  space research     advances in space research      1\n",
       "1  space research  benefits of space exploration      1\n",
       "2  space research    committee on space research      1\n",
       "3  space research         deep space exploration      1\n",
       "4  space research        lists of space programs      1"
      ]
     },
     "execution_count": 161,
     "metadata": {},
     "output_type": "execute_result"
    }
   ],
   "source": [
    "# Loading data\n",
    "edge_list = pd.read_csv(\"small_data.tsv\", sep = \"\\t\")\n",
    "edge_list.head()"
   ]
  },
  {
   "cell_type": "code",
   "execution_count": 162,
   "metadata": {},
   "outputs": [
    {
     "name": "stdout",
     "output_type": "stream",
     "text": [
      "Number of nodes:  2096\n"
     ]
    }
   ],
   "source": [
    "# Building graph\n",
    "graph = nx.from_pandas_edgelist(edge_list, \"source\", \"target\", edge_attr=True)\n",
    "print(\"Number of nodes: \", len(graph))"
   ]
  },
  {
   "cell_type": "markdown",
   "metadata": {},
   "source": [
    "# Node to vector representations\n",
    "\n",
    "Algorithms:\n",
    "- Deepwalk\n",
    "- Node2Vec\n",
    "\n",
    "Nodes appearing in the same context will have similar embeddings. The context is defined as sequences of nodes built by random walks.\n",
    "\n",
    "Why not just recommend neighboring nodes instead of bothering with embeddings ? The connectedness of the nodes in a graph does not necessarily mean that they are semantically similar. Besides embeddings allow us to do linear algebra on the representations. This is especially useful for queries with multiple keywords."
   ]
  },
  {
   "cell_type": "code",
   "execution_count": 163,
   "metadata": {},
   "outputs": [],
   "source": [
    "class Deepwalk():\n",
    "    \"\"\"DeepWalk algorithm\"\"\"\n",
    "    \n",
    "    def __init__(self, graph, walk_length=10, num_walks=5):\n",
    "        \"\"\"Inits a Deepwalk instance.\n",
    "        \n",
    "        Args:\n",
    "            graph: graph to embed\n",
    "            walk_length: number of steps per walk\n",
    "            num_walks: number of walks per starting node\n",
    "        \"\"\"\n",
    "        \n",
    "        self.graph = graph\n",
    "        self.walk_length = walk_length\n",
    "        self.num_walks = num_walks\n",
    "        \n",
    "        self.walks = []\n",
    "\n",
    "        for node in graph.nodes():\n",
    "            for i in range(self.num_walks):\n",
    "                self.walks.append(self.build_walk(node))\n",
    "        \n",
    "    def build_walk(self, node, repeat_nodes=True):\n",
    "    \n",
    "        walk = [node]\n",
    "    \n",
    "        for i in range(self.walk_length-1):\n",
    "            neighbors = list(self.graph.neighbors(node))\n",
    "            if not repeat_nodes:\n",
    "                neighbors = list(set(neighbors)-set(walk))\n",
    "            if len(neighbors) == 0:\n",
    "                break\n",
    "            next_node = random.choice(neighbors)\n",
    "            walk.append(next_node)\n",
    "            node = next_node\n",
    "\n",
    "        return walk\n",
    "    \n",
    "    def fit(self, window=5, size=100, min_count=5, sg=1, hs=0, negative=10, iter=20):\n",
    "        \"\"\"Train Word2Vec model with skip-gram and negative sampling based on pre-computed walks\"\"\"\n",
    "        return Word2Vec(self.walks, size=size, window=window, \n",
    "                        min_count=min_count, sg=sg, hs=hs, negative=negative, iter=iter)"
   ]
  },
  {
   "cell_type": "code",
   "execution_count": 164,
   "metadata": {},
   "outputs": [],
   "source": [
    "deepwalk = Deepwalk(graph, walk_length=10, num_walks=5)\n",
    "deepwalk_model = deepwalk.fit(window=5, size=100, min_count=5, sg=1, hs=0, negative=10, iter=20)"
   ]
  },
  {
   "cell_type": "code",
   "execution_count": 165,
   "metadata": {},
   "outputs": [],
   "source": [
    "node2vec = Node2Vec(graph, walk_length=10, num_walks=5, quiet=True)\n",
    "node2vec_model = node2vec.fit(window=5, size=100, min_count=5, sg=1, hs=0, negative=10, iter=20)"
   ]
  },
  {
   "cell_type": "code",
   "execution_count": 166,
   "metadata": {},
   "outputs": [
    {
     "data": {
      "text/plain": [
       "[('space flight participant', 0.80556321144104),\n",
       " ('space tourism society', 0.6888458132743835),\n",
       " ('astronaut training', 0.6860741376876831),\n",
       " ('micro-g environment', 0.6853494048118591),\n",
       " ('reduced-gravity aircraft', 0.6682568192481995),\n",
       " ('rocketship tours', 0.6606319546699524),\n",
       " ('seti', 0.6511574387550354),\n",
       " ('nuclear powers', 0.6392217874526978),\n",
       " ('copenhagen suborbitals', 0.6284222602844238),\n",
       " ('heinlein prize for advances in space commercialization',\n",
       "  0.6191519498825073)]"
      ]
     },
     "execution_count": 166,
     "metadata": {},
     "output_type": "execute_result"
    }
   ],
   "source": [
    "deepwalk_model.wv.similar_by_word('space tourism')"
   ]
  },
  {
   "cell_type": "code",
   "execution_count": 167,
   "metadata": {},
   "outputs": [
    {
     "data": {
      "text/plain": [
       "[('space flight participant', 0.8024930953979492),\n",
       " ('reduced-gravity aircraft', 0.7187999486923218),\n",
       " ('astronaut training', 0.7138291597366333),\n",
       " ('micro-g environment', 0.7046424150466919),\n",
       " ('space adventures', 0.6597773432731628),\n",
       " ('commercial astronaut', 0.6566869020462036),\n",
       " ('starchaser industries', 0.6482086777687073),\n",
       " ('potential cultural impact of extraterrestrial contact', 0.6396968364715576),\n",
       " ('home on lagrange (the l5 song)', 0.6252378225326538),\n",
       " ('seti', 0.6194019913673401)]"
      ]
     },
     "execution_count": 167,
     "metadata": {},
     "output_type": "execute_result"
    }
   ],
   "source": [
    "node2vec_model.wv.similar_by_word('space tourism')"
   ]
  },
  {
   "cell_type": "code",
   "execution_count": 168,
   "metadata": {},
   "outputs": [],
   "source": [
    "nodes_to_plot = ['lunar escape systems','soviet moonshot', 'soyuz 7k-l1', \n",
    "                 'moon landing','space food', 'food systems on space exploration missions', \n",
    "                 'meal, ready-to-eat','space law', 'metalaw', 'moon treaty', \n",
    "                 'legal aspects of computing','astronaut training', 'reduced-gravity aircraft', \n",
    "                 'space adaptation syndrome', 'micro-g environment']"
   ]
  },
  {
   "cell_type": "code",
   "execution_count": 169,
   "metadata": {},
   "outputs": [],
   "source": [
    "def plot_projection(model, nodes, dim=2, projection_method=PCA):\n",
    "    \"\"\"Plot the projection of embeddings after applying a dimensionality reduction method.\"\"\"\n",
    "    node_vectors = model.wv[nodes]\n",
    "    projection = projection_method(n_components=dim)\n",
    "    projections = projection.fit_transform(node_vectors)\n",
    "    \n",
    "    plt.figure(figsize=(10,7))\n",
    "    plt.scatter(projections[:,0], projections[:,1])\n",
    "    for i, node in enumerate(nodes):\n",
    "        plt.annotate(node, xy=(projections[i,0], projections[i,1]))\n",
    "    plt.title(\"{} over first {} components\".format(type(projection).__name__, dim))\n",
    "    plt.show()"
   ]
  },
  {
   "cell_type": "code",
   "execution_count": 170,
   "metadata": {},
   "outputs": [
    {
     "data": {
      "image/png": "[encoded data removed]",
      "text/plain": [
       "<Figure size 720x504 with 1 Axes>"
      ]
     },
     "metadata": {
      "needs_background": "light"
     },
     "output_type": "display_data"
    }
   ],
   "source": [
    "plot_projection(deepwalk_model, nodes_to_plot)"
   ]
  },
  {
   "cell_type": "code",
   "execution_count": 171,
   "metadata": {},
   "outputs": [
    {
     "data": {
      "image/png": "[encoded data removed]",
      "text/plain": [
       "<Figure size 720x504 with 1 Axes>"
      ]
     },
     "metadata": {
      "needs_background": "light"
     },
     "output_type": "display_data"
    }
   ],
   "source": [
    "plot_projection(node2vec_model, nodes_to_plot)"
   ]
  },
  {
   "cell_type": "code",
   "execution_count": 172,
   "metadata": {},
   "outputs": [],
   "source": [
    "def get_url(node):\n",
    "    return \"https://en.wikipedia.org/wiki/\" + node.replace(\" \", \"_\")\n",
    "\n",
    "def get_url_robust(node):\n",
    "    \"Robust to spelling and lower case/upper case errors\"\n",
    "    return wikipedia.page(node).url\n",
    "\n",
    "urls = [get_url(node) for node in graph.nodes()]"
   ]
  },
  {
   "cell_type": "markdown",
   "metadata": {},
   "source": [
    "# Combining text representations and graph geometry\n",
    "\n",
    "- Obtain representations of summaries as word2vec or bert embeddings\n",
    "- Perform walks and average embeddings\n",
    "\n",
    "## Scalability limitations\n",
    "\n",
    "- We would need a lot of computational resources for parsing the text and learning word embeddings from all these summaries. However one can use pre-trained embeddings to fix this issue."
   ]
  },
  {
   "cell_type": "code",
   "execution_count": null,
   "metadata": {},
   "outputs": [],
   "source": [
    "import torch\n",
    "from transformers import *\n",
    "\n",
    "# Load pretrained model/tokenizer\n",
    "tokenizer = BertTokenizer.from_pretrained('bert-base-uncased')\n",
    "model = BertModel.from_pretrained('bert-base-uncased')\n",
    "nlp = en_core_web_md.load()\n",
    "\n",
    "walks = node2vec.walks"
   ]
  },
  {
   "cell_type": "code",
   "execution_count": 61,
   "metadata": {},
   "outputs": [],
   "source": [
    "def get_summary(node, num_chars=1000):\n",
    "    try:\n",
    "        return wiki_wiki.page(node).summary[:num_chars]\n",
    "    except:\n",
    "        return ''\n",
    "    \n",
    "def get_summary_robust(node, num_chars=1000):\n",
    "    \"Robust to spelling and lower case/upper case errors\"\n",
    "    try:\n",
    "        return wikipedia.summary(node, chars=num_chars)[:num_chars] # summary may not return exactly num_chars\n",
    "    except:\n",
    "        return ''"
   ]
  },
  {
   "cell_type": "code",
   "execution_count": 137,
   "metadata": {},
   "outputs": [],
   "source": [
    "def bert_embedding(summary):\n",
    "    \"Encode text using Bert model.\"\n",
    "    input_ids = torch.tensor([tokenizer.encode(summary, add_special_tokens=True)])  # Add special tokens takes care of adding [CLS], [SEP], <s>... tokens in the right way for each model.\n",
    "    with torch.no_grad():\n",
    "        last_hidden_states = model(input_ids)[0]  # Models outputs are now tuples\n",
    "        last_hidden_states = last_hidden_states.squeeze().mean(dim=0)\n",
    "    return last_hidden_states.numpy()"
   ]
  },
  {
   "cell_type": "code",
   "execution_count": 142,
   "metadata": {},
   "outputs": [],
   "source": [
    "def get_weighted_walk_of_embeddings(walk, embeddings_dict, source_weight=0.75):\n",
    "    \"Given a source embedding and a walk of embeddings, returns the weighted average of embeddings.\"\n",
    "    walk_weight = (1-source_weight)/(len(walk)-1)\n",
    "    bert_embeddings = [embeddings_dict[node] for node in walk]\n",
    "    return source_weight*bert_embeddings[0] + walk_weight*sum(bert_embeddings[1:])"
   ]
  },
  {
   "cell_type": "code",
   "execution_count": 101,
   "metadata": {},
   "outputs": [],
   "source": [
    "def compute_similarities(summary, corpus, top_n=10):\n",
    "    \"\"\"Given an embedding and a corpus, returns the closest k embeddings.\"\"\"\n",
    "    similarities = {k:(1 - spatial.distance.cosine(summary, v))for k, v in corpus.items()}\n",
    "    similarities = dict(sorted(similarities.items(), key = itemgetter(1), reverse = True)[:top_n])\n",
    "    return similarities"
   ]
  },
  {
   "cell_type": "code",
   "execution_count": 151,
   "metadata": {},
   "outputs": [],
   "source": [
    "# Scrapping summary for each article\n",
    "# ~25 sc per 100 articles. Not very efficient since we make requests sequentially and not in batch\n",
    "#t = time.time()\n",
    "summaries = [get_summary(node, num_chars=280) for node in graph.nodes()]\n",
    "#print(\"Scrapped summaries in {0:.0f} seconds\".format(time.time()-t))"
   ]
  },
  {
   "cell_type": "code",
   "execution_count": 153,
   "metadata": {},
   "outputs": [],
   "source": [
    "mean_embeddings = [nlp(summary).vector for summary in summaries]\n",
    "embeddings_dict = dict(zip(list(graph.nodes()), mean_embeddings))"
   ]
  },
  {
   "cell_type": "code",
   "execution_count": 154,
   "metadata": {},
   "outputs": [],
   "source": [
    "walk_embeddings_dict = {k:[] for k in embeddings_dict.keys()}\n",
    "\n",
    "for walk in walks:\n",
    "    walk_embeddings_dict[walk[0]].append(get_weighted_walk_of_embeddings(walk, embeddings_dict, source_weight=0.75))\n",
    "\n",
    "walk_averaged_embeddings_dict = {k:sum(v)/len(v) for k, v in walk_embeddings_dict.items()}"
   ]
  },
  {
   "cell_type": "code",
   "execution_count": 155,
   "metadata": {},
   "outputs": [
    {
     "data": {
      "text/plain": [
       "{'data visualization': 1.0,\n",
       " 'data presentation architecture': 0.9996038675308228,\n",
       " 'theresa-marie rhyne': 0.9806609153747559,\n",
       " 'news illustrated': 0.9777935743331909,\n",
       " '3d interaction': 0.9757876992225647,\n",
       " 'sourcetrail': 0.9757266640663147,\n",
       " 'ben shneiderman': 0.9754067063331604,\n",
       " 'starlight information visualization system': 0.9729503393173218,\n",
       " 'mevislab': 0.971404492855072,\n",
       " 'widget (gui)': 0.9712947607040405}"
      ]
     },
     "execution_count": 155,
     "metadata": {},
     "output_type": "execute_result"
    }
   ],
   "source": [
    "compute_similarities(walk_averaged_embeddings_dict['data visualization'], walk_averaged_embeddings_dict)"
   ]
  },
  {
   "cell_type": "code",
   "execution_count": 156,
   "metadata": {},
   "outputs": [],
   "source": [
    "mean_embeddings_bert = [bert_embedding(summary) for summary in summaries]\n",
    "embeddings_dict_bert = dict(zip(list(graph.nodes()), mean_embeddings_bert))"
   ]
  },
  {
   "cell_type": "code",
   "execution_count": 157,
   "metadata": {},
   "outputs": [],
   "source": [
    "walk_embeddings_dict_bert = {k:[] for k in embeddings_dict_bert.keys()}\n",
    "\n",
    "for walk in walks:\n",
    "    walk_embeddings_dict_bert[walk[0]].append(get_weighted_walk_of_embeddings(walk, embeddings_dict_bert, source_weight=0.75))\n",
    "\n",
    "walk_averaged_embeddings_dict_bert = {k:sum(v)/len(v) for k, v in walk_embeddings_dict_bert.items()}"
   ]
  },
  {
   "cell_type": "code",
   "execution_count": 158,
   "metadata": {},
   "outputs": [
    {
     "data": {
      "text/plain": [
       "{'data visualization': 1.0,\n",
       " 'data presentation architecture': 0.9992660284042358,\n",
       " 'information visualization': 0.9307267069816589,\n",
       " 'infographic': 0.9295519590377808,\n",
       " 'infographics': 0.9276226162910461,\n",
       " 'data acquisition': 0.9255778193473816,\n",
       " 'visualization (graphic)': 0.9222146272659302,\n",
       " 'application discovery and understanding': 0.9217788577079773,\n",
       " 'nonlinear system identification': 0.9203293323516846,\n",
       " 'knowledge visualization': 0.9198049902915955}"
      ]
     },
     "execution_count": 158,
     "metadata": {},
     "output_type": "execute_result"
    }
   ],
   "source": [
    "compute_similarities(walk_averaged_embeddings_dict_bert['data visualization'], walk_averaged_embeddings_dict_bert)"
   ]
  }
 ],
 "metadata": {
  "kernelspec": {
   "display_name": "Python 3",
   "language": "python",
   "name": "python3"
  },
  "language_info": {
   "codemirror_mode": {
    "name": "ipython",
    "version": 3
   },
   "file_extension": ".py",
   "mimetype": "text/x-python",
   "name": "python",
   "nbconvert_exporter": "python",
   "pygments_lexer": "ipython3",
   "version": "3.6.9"
  }
 },
 "nbformat": 4,
 "nbformat_minor": 2
}
