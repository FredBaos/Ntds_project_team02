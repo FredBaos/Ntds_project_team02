{
 "cells": [
  {
   "cell_type": "code",
   "execution_count": 1,
   "metadata": {},
   "outputs": [],
   "source": [
    "# Imports\n",
    "import networkx as nx\n",
    "import pandas as pd\n",
    "import numpy as np\n",
    "import random\n",
    "import wikipediaapi\n",
    "import wikipedia\n",
    "import time\n",
    "from operator import itemgetter\n",
    "import matplotlib.pyplot as plt\n",
    "from scipy import spatial\n",
    "from gensim.models import Word2Vec\n",
    "from node2vec import Node2Vec\n",
    "from sklearn.decomposition import PCA\n",
    "from sklearn.manifold import TSNE\n",
    "import spacy\n",
    "import en_core_web_md # python -m spacy download en_core_web_md\n",
    "from config import *\n",
    "\n",
    "wiki_wiki = wikipediaapi.Wikipedia('en')"
   ]
  },
  {
   "cell_type": "code",
   "execution_count": 2,
   "metadata": {},
   "outputs": [
    {
     "data": {
      "text/html": [
       "<div>\n",
       "<style scoped>\n",
       "    .dataframe tbody tr th:only-of-type {\n",
       "        vertical-align: middle;\n",
       "    }\n",
       "\n",
       "    .dataframe tbody tr th {\n",
       "        vertical-align: top;\n",
       "    }\n",
       "\n",
       "    .dataframe thead th {\n",
       "        text-align: right;\n",
       "    }\n",
       "</style>\n",
       "<table border=\"1\" class=\"dataframe\">\n",
       "  <thead>\n",
       "    <tr style=\"text-align: right;\">\n",
       "      <th></th>\n",
       "      <th>source</th>\n",
       "      <th>target</th>\n",
       "      <th>depth</th>\n",
       "    </tr>\n",
       "  </thead>\n",
       "  <tbody>\n",
       "    <tr>\n",
       "      <td>0</td>\n",
       "      <td>intelligent agent</td>\n",
       "      <td>software agent</td>\n",
       "      <td>1</td>\n",
       "    </tr>\n",
       "    <tr>\n",
       "      <td>1</td>\n",
       "      <td>intelligent agent</td>\n",
       "      <td>cognitive architecture</td>\n",
       "      <td>1</td>\n",
       "    </tr>\n",
       "    <tr>\n",
       "      <td>2</td>\n",
       "      <td>intelligent agent</td>\n",
       "      <td>cognitive radio</td>\n",
       "      <td>1</td>\n",
       "    </tr>\n",
       "    <tr>\n",
       "      <td>3</td>\n",
       "      <td>intelligent agent</td>\n",
       "      <td>cybernetics</td>\n",
       "      <td>1</td>\n",
       "    </tr>\n",
       "    <tr>\n",
       "      <td>4</td>\n",
       "      <td>intelligent agent</td>\n",
       "      <td>computer science</td>\n",
       "      <td>1</td>\n",
       "    </tr>\n",
       "  </tbody>\n",
       "</table>\n",
       "</div>"
      ],
      "text/plain": [
       "              source                  target  depth\n",
       "0  intelligent agent          software agent      1\n",
       "1  intelligent agent  cognitive architecture      1\n",
       "2  intelligent agent         cognitive radio      1\n",
       "3  intelligent agent             cybernetics      1\n",
       "4  intelligent agent        computer science      1"
      ]
     },
     "execution_count": 2,
     "metadata": {},
     "output_type": "execute_result"
    }
   ],
   "source": [
    "# Loading data\n",
    "'''\n",
    "edge_list = pd.read_csv(\"small_data.tsv\", sep = \"\\t\")\n",
    "edge_list2 = pd.read_csv(\"ml-nlp-ai.tsv\", sep = \"\\t\")\n",
    "edge_list3 = pd.read_csv(\"ml-nlp-ai-ann-dist2.tsv\", sep = \"\\t\")\n",
    "edge_list4 = pd.read_csv(\"ml-nlp-ai-ann-dist3.tsv\", sep = \"\\t\")\n",
    "edge_list5 = pd.read_csv(\"ml-nlp-ai-ann-chatbot-dist2.tsv\", sep = \"\\t\")\n",
    "edge_list6 = pd.read_csv(\"ml-nlp-ai-ann-chatbot-dist3.tsv\", sep = \"\\t\")\n",
    "'''\n",
    "edge_list = pd.read_csv(\"ml-nlp-ai-ann-chatbot-ia-dataviz-dist2.tsv\", sep = \"\\t\")\n",
    "edge_list.head()"
   ]
  },
  {
   "cell_type": "code",
   "execution_count": 3,
   "metadata": {},
   "outputs": [
    {
     "name": "stdout",
     "output_type": "stream",
     "text": [
      "Number of nodes:  1166\n"
     ]
    }
   ],
   "source": [
    "# Building graph\n",
    "graph = nx.from_pandas_edgelist(edge_list, \"source\", \"target\", edge_attr=True)\n",
    "print(\"Number of nodes: \", len(graph))"
   ]
  },
  {
   "cell_type": "markdown",
   "metadata": {},
   "source": [
    "# Node to vector representations\n",
    "\n",
    "Algorithms:\n",
    "- Deepwalk\n",
    "- Node2Vec\n",
    "\n",
    "Nodes appearing in the same context will have similar embeddings. The context is defined as sequences of nodes built by random walks.\n",
    "\n",
    "Why not just recommend neighboring nodes instead of bothering with embeddings ? The connectedness of the nodes in a graph does not necessarily mean that they are semantically similar. Besides embeddings allow us to do linear algebra on the representations. This is especially useful for queries with multiple keywords."
   ]
  },
  {
   "cell_type": "code",
   "execution_count": 4,
   "metadata": {},
   "outputs": [],
   "source": [
    "class Deepwalk():\n",
    "    \"\"\"DeepWalk algorithm\"\"\"\n",
    "    \n",
    "    def __init__(self, graph, walk_length=10, num_walks=5):\n",
    "        \"\"\"Inits a Deepwalk instance.\n",
    "        \n",
    "        Args:\n",
    "            graph: graph to embed\n",
    "            walk_length: number of steps per walk\n",
    "            num_walks: number of walks per starting node\n",
    "        \"\"\"\n",
    "        \n",
    "        self.graph = graph\n",
    "        self.walk_length = walk_length\n",
    "        self.num_walks = num_walks\n",
    "        \n",
    "        self.walks = []\n",
    "\n",
    "        for node in graph.nodes():\n",
    "            for i in range(self.num_walks):\n",
    "                self.walks.append(self.build_walk(node))\n",
    "        \n",
    "    def build_walk(self, node, repeat_nodes=True):\n",
    "    \n",
    "        walk = [node]\n",
    "    \n",
    "        for i in range(self.walk_length-1):\n",
    "            neighbors = list(self.graph.neighbors(node))\n",
    "            if not repeat_nodes:\n",
    "                neighbors = list(set(neighbors)-set(walk))\n",
    "            if len(neighbors) == 0:\n",
    "                break\n",
    "            next_node = random.choice(neighbors)\n",
    "            walk.append(next_node)\n",
    "            node = next_node\n",
    "\n",
    "        return walk\n",
    "    \n",
    "    def fit(self, window=5, size=100, min_count=5, sg=1, hs=0, negative=10, iter=20):\n",
    "        \"\"\"Train Word2Vec model with skip-gram and negative sampling based on pre-computed walks\"\"\"\n",
    "        return Word2Vec(self.walks, size=size, window=window, \n",
    "                        min_count=min_count, sg=sg, hs=hs, negative=negative, iter=iter)"
   ]
  },
  {
   "cell_type": "code",
   "execution_count": 5,
   "metadata": {},
   "outputs": [],
   "source": [
    "deepwalk = Deepwalk(graph, walk_length=10, num_walks=5)\n",
    "deepwalk_model = deepwalk.fit(window=5, size=100, min_count=5, sg=1, hs=0, negative=10, iter=20)"
   ]
  },
  {
   "cell_type": "code",
   "execution_count": 6,
   "metadata": {},
   "outputs": [],
   "source": [
    "node2vec = Node2Vec(graph, walk_length=10, num_walks=5, quiet=True)\n",
    "node2vec_model = node2vec.fit(window=5, size=100, min_count=5, sg=1, hs=0, negative=10, iter=20)"
   ]
  },
  {
   "cell_type": "code",
   "execution_count": 7,
   "metadata": {
    "scrolled": true
   },
   "outputs": [
    {
     "data": {
      "text/plain": [
       "[('a.i. rising', 0.8536570072174072),\n",
       " ('soft computing', 0.8330191373825073),\n",
       " ('robotic process automation', 0.8144057393074036),\n",
       " ('personality computing', 0.7953453063964844),\n",
       " ('glossary of artificial intelligence', 0.748216986656189),\n",
       " ('behavioral modeling in computer-aided design', 0.7244319915771484),\n",
       " ('glossary of machine vision', 0.7144978046417236),\n",
       " ('business process automation', 0.6888904571533203),\n",
       " ('comparison of business integration software', 0.6879185438156128),\n",
       " ('real-time enterprise', 0.6839792728424072)]"
      ]
     },
     "execution_count": 7,
     "metadata": {},
     "output_type": "execute_result"
    }
   ],
   "source": [
    "deepwalk_model.wv.similar_by_word('artificial intelligence')"
   ]
  },
  {
   "cell_type": "code",
   "execution_count": 8,
   "metadata": {},
   "outputs": [
    {
     "data": {
      "text/plain": [
       "[('robotic process automation', 0.8132063746452332),\n",
       " ('personality computing', 0.7816567420959473),\n",
       " ('a.i. rising', 0.7777826189994812),\n",
       " ('soft computing', 0.7758406400680542),\n",
       " ('glossary of artificial intelligence', 0.7708931565284729),\n",
       " ('glossary of machine vision', 0.7206389904022217),\n",
       " ('business process automation', 0.6948916912078857),\n",
       " ('comparison of business integration software', 0.6827898025512695),\n",
       " ('cognitive model', 0.6776918768882751),\n",
       " ('business-driven development', 0.6669925451278687)]"
      ]
     },
     "execution_count": 8,
     "metadata": {},
     "output_type": "execute_result"
    }
   ],
   "source": [
    "node2vec_model.wv.similar_by_word('artificial intelligence')"
   ]
  },
  {
   "cell_type": "code",
   "execution_count": 9,
   "metadata": {},
   "outputs": [],
   "source": [
    "nodes_to_plot = ['lunar escape systems','soviet moonshot', 'soyuz 7k-l1', \n",
    "                 'moon landing','space food', 'food systems on space exploration missions', \n",
    "                 'meal, ready-to-eat','space law', 'metalaw', 'moon treaty', \n",
    "                 'legal aspects of computing','astronaut training', 'reduced-gravity aircraft', \n",
    "                 'space adaptation syndrome', 'micro-g environment']\n",
    "\n",
    "nodes_to_plot = ['machine learning', 'machine learning in bioinformatics', 'one-shot learning',\n",
    "                 'hyperparameter optimization', 'system identification', 'model selection',\n",
    "                 'self-tuning', 'artificial intelligence', 'artificial neural network',\n",
    "                 'artificial neural network', 'intelligent agent', 'data visualization']"
   ]
  },
  {
   "cell_type": "code",
   "execution_count": 10,
   "metadata": {},
   "outputs": [],
   "source": [
    "def plot_projection(model, nodes, dim=2, projection_method=PCA):\n",
    "    \"\"\"Plot the projection of embeddings after applying a dimensionality reduction method.\"\"\"\n",
    "    node_vectors = model.wv[nodes]\n",
    "    projection = projection_method(n_components=dim)\n",
    "    projections = projection.fit_transform(node_vectors)\n",
    "    \n",
    "    plt.figure(figsize=(10,7))\n",
    "    plt.scatter(projections[:,0], projections[:,1])\n",
    "    for i, node in enumerate(nodes):\n",
    "        plt.annotate(node, xy=(projections[i,0], projections[i,1]))\n",
    "    plt.title(\"{} over first {} components\".format(type(projection).__name__, dim))\n",
    "    plt.show()"
   ]
  },
  {
   "cell_type": "code",
   "execution_count": 11,
   "metadata": {},
   "outputs": [
    {
     "data": {
      "image/png": "[encoded data removed]",
      "text/plain": [
       "<Figure size 720x504 with 1 Axes>"
      ]
     },
     "metadata": {
      "needs_background": "light"
     },
     "output_type": "display_data"
    }
   ],
   "source": [
    "plot_projection(deepwalk_model, nodes_to_plot)"
   ]
  },
  {
   "cell_type": "code",
   "execution_count": 12,
   "metadata": {},
   "outputs": [
    {
     "data": {
      "image/png": "[encoded data removed]",
      "text/plain": [
       "<Figure size 720x504 with 1 Axes>"
      ]
     },
     "metadata": {
      "needs_background": "light"
     },
     "output_type": "display_data"
    }
   ],
   "source": [
    "plot_projection(node2vec_model, nodes_to_plot)"
   ]
  },
  {
   "cell_type": "code",
   "execution_count": 13,
   "metadata": {},
   "outputs": [],
   "source": [
    "def get_url(node):\n",
    "    return \"https://en.wikipedia.org/wiki/\" + node.replace(\" \", \"_\")\n",
    "\n",
    "def OLD_get_url_robust(node):\n",
    "    \"Robust to spelling and lower case/upper case errors\"\n",
    "    return wikipedia.page(node).url\n",
    "\n",
    "def get_url_robust(node):\n",
    "    \"Robust to spelling and lower case/upper case errors\"\n",
    "    try:\n",
    "        return wikipedia.page(node).url\n",
    "    except wikipedia.DisambiguationError as e:\n",
    "        #s = random.choice(e.options)\n",
    "        s = e.options[0]\n",
    "        return wikipedia.page(s).url\n",
    "    except:\n",
    "        return \"https://en.wikipedia.org/wiki/\" + node.replace(\" \", \"_\")"
   ]
  },
  {
   "cell_type": "code",
   "execution_count": 14,
   "metadata": {},
   "outputs": [],
   "source": [
    "df_node = pd.DataFrame(columns=['name','url', 'keywords'])\n",
    "df_node['name'] = pd.unique(edge_list.source.append(edge_list.target))"
   ]
  },
  {
   "cell_type": "code",
   "execution_count": 15,
   "metadata": {},
   "outputs": [],
   "source": [
    "# runs for a while with get_url_robust, about 3s per node * 2k nodes = 1h40 \n",
    "df_node['url'] = [get_url(name) for name in df_node.name]"
   ]
  },
  {
   "cell_type": "markdown",
   "metadata": {},
   "source": [
    "### Creation of the keywords lists for the nodes"
   ]
  },
  {
   "cell_type": "code",
   "execution_count": 20,
   "metadata": {},
   "outputs": [],
   "source": [
    "def get_summary(node, num_chars=1000):\n",
    "    try:\n",
    "        return wiki_wiki.page(node).summary[:num_chars]\n",
    "    except:\n",
    "        return ''\n",
    "    \n",
    "def OLD_get_summary_robust(node, num_chars=1000):\n",
    "    \"Robust to spelling and lower case/upper case errors\"\n",
    "    try:\n",
    "        return wikipedia.summary(node, chars=num_chars)[:num_chars] # summary may not return exactly num_chars\n",
    "    except:\n",
    "        return ''\n",
    "    \n",
    "def get_summary_robust(node, num_chars=1000):\n",
    "    \"Robust to spelling and lower case/upper case errors\"\n",
    "    try:\n",
    "        return wikipedia.summary(node, chars=num_chars)[:num_chars] # summary may not return exactly num_chars\n",
    "    except wikipedia.DisambiguationError as e:\n",
    "        s = random.choice(e.options)\n",
    "        return wikipedia.summary(s, chars=num_chars)[:num_chars]\n",
    "    except:\n",
    "        return ''"
   ]
  },
  {
   "cell_type": "code",
   "execution_count": 16,
   "metadata": {},
   "outputs": [],
   "source": [
    "import re\n",
    "import pickle\n",
    "from sklearn.feature_extraction.text import CountVectorizer, TfidfTransformer\n",
    "\n",
    "def pre_process(text):\n",
    "    text=text.lower()\n",
    "    text=re.sub(\"</?.*?>\",\" <> \",text)\n",
    "    text=re.sub(\"(\\\\d|\\\\W)+\",\" \",text)\n",
    "    return text\n",
    "\n",
    "def get_stop_words(stop_file_path):\n",
    "    \"\"\"load stop words \"\"\"\n",
    "    with open(stop_file_path, 'r', encoding=\"utf-8\") as f:\n",
    "        stopwords = f.readlines()\n",
    "        stop_set = set(m.strip() for m in stopwords)\n",
    "        return frozenset(stop_set)"
   ]
  },
  {
   "cell_type": "code",
   "execution_count": 17,
   "metadata": {},
   "outputs": [],
   "source": [
    "def sort_coo(coo_matrix):\n",
    "    tuples = zip(coo_matrix.col, coo_matrix.data)\n",
    "    return sorted(tuples, key=lambda x: (x[1], x[0]), reverse=True)\n",
    "\n",
    "def extract_topn_from_vector(feature_names, sorted_items, topn=10):\n",
    "    \"\"\"get the feature names and tf-idf score of top n items\"\"\"\n",
    "    \n",
    "    #use only topn items from vector\n",
    "    sorted_items = sorted_items[:topn]\n",
    "\n",
    "    score_vals = []\n",
    "    feature_vals = []\n",
    "\n",
    "    for idx, score in sorted_items:\n",
    "        fname = feature_names[idx]\n",
    "        \n",
    "        #keep track of feature name and its corresponding score\n",
    "        score_vals.append(round(score, 3))\n",
    "        feature_vals.append(feature_names[idx])\n",
    "\n",
    "    #create a tuples of feature,score\n",
    "    #results = zip(feature_vals,score_vals)\n",
    "    results= {}\n",
    "    for idx in range(len(feature_vals)):\n",
    "        results[feature_vals[idx]]=score_vals[idx]\n",
    "    \n",
    "    return results\n",
    "\n",
    "def get_keywords(idx):\n",
    "\n",
    "    #generate tf-idf for the given document\n",
    "    tf_idf_vector=tfidf_transformer.transform(cv.transform([docs[idx]]))\n",
    "\n",
    "    #sort the tf-idf vectors by descending order of scores\n",
    "    sorted_items=sort_coo(tf_idf_vector.tocoo())\n",
    "\n",
    "    #extract only the top n; n here is 10\n",
    "    keywords=extract_topn_from_vector(feature_names,sorted_items,10)\n",
    "    \n",
    "    return keywords"
   ]
  },
  {
   "cell_type": "code",
   "execution_count": 18,
   "metadata": {},
   "outputs": [
    {
     "name": "stdout",
     "output_type": "stream",
     "text": [
      "1166\n"
     ]
    }
   ],
   "source": [
    "print(len(df_node))"
   ]
  },
  {
   "cell_type": "code",
   "execution_count": 23,
   "metadata": {
    "scrolled": true
   },
   "outputs": [
    {
     "name": "stdout",
     "output_type": "stream",
     "text": [
      "0\n",
      "1\n",
      "2\n",
      "3\n",
      "4\n",
      "5\n",
      "6\n",
      "7\n",
      "8\n",
      "9\n"
     ]
    },
    {
     "data": {
      "text/plain": [
       "(10, 497)"
      ]
     },
     "execution_count": 23,
     "metadata": {},
     "output_type": "execute_result"
    }
   ],
   "source": [
    "#load a set of stop words\n",
    "stopwords=get_stop_words(\"stopwords.txt\")\n",
    "\n",
    "#get the text column \n",
    "#docs=df_idf['text'].tolist()\n",
    "counter = 0\n",
    "docs = []\n",
    "\n",
    "# /!\\ remove [:10] and put save to True whenever you want to create the pickle for summaries\n",
    "\n",
    "\n",
    "for name in df_node['name'][:10]:\n",
    "    print(counter)\n",
    "    counter += 1\n",
    "    docs.append(pre_process(get_summary_robust(name)))\n",
    "\n",
    "save = False\n",
    "if save:\n",
    "    with open('ml-nlp-ai-ann-chatbot-ia-dataviz-dist2_summaries.pickle', 'wb') as handle:\n",
    "        pickle.dump(docs, handle)\n",
    "else:\n",
    "    with open('ml-nlp-ai-ann-chatbot-ia-dataviz-dist2_summaries.pickle', 'rb') as handle:\n",
    "        docs = pickle.load(handle)\n",
    "\n",
    "#create a vocabulary of words, \n",
    "#ignore words that appear in 85% of documents, \n",
    "#eliminate stop words\n",
    "cv=CountVectorizer(max_df=0.85,stop_words=stopwords)\n",
    "word_count_vector=cv.fit_transform(docs)\n",
    "word_count_vector.shape"
   ]
  },
  {
   "cell_type": "code",
   "execution_count": null,
   "metadata": {},
   "outputs": [],
   "source": [
    "# potentially limit vocabulary size to 10k\n",
    "cv=CountVectorizer(max_df=0.85,stop_words=stopwords,max_features=10000)\n",
    "word_count_vector=cv.fit_transform(docs)\n",
    "word_count_vector.shape"
   ]
  },
  {
   "cell_type": "code",
   "execution_count": 31,
   "metadata": {},
   "outputs": [
    {
     "data": {
      "text/plain": [
       "(['artificial',\n",
       "  'intelligence',\n",
       "  'intelligent',\n",
       "  'agent',\n",
       "  'ia',\n",
       "  'refers',\n",
       "  'autonomous',\n",
       "  'entity',\n",
       "  'acts',\n",
       "  'directing'],\n",
       " ['agents', 'ai', 'aia', 'alexa', 'algorithm'])"
      ]
     },
     "execution_count": 31,
     "metadata": {},
     "output_type": "execute_result"
    }
   ],
   "source": [
    "list(cv.vocabulary_.keys())[:10], list(cv.get_feature_names())[20:25]"
   ]
  },
  {
   "cell_type": "code",
   "execution_count": 25,
   "metadata": {},
   "outputs": [
    {
     "data": {
      "text/plain": [
       "TfidfTransformer(norm='l2', smooth_idf=True, sublinear_tf=False, use_idf=True)"
      ]
     },
     "execution_count": 25,
     "metadata": {},
     "output_type": "execute_result"
    }
   ],
   "source": [
    "# TF-IDF transformer\n",
    "tfidf_transformer=TfidfTransformer(smooth_idf=True,use_idf=True)\n",
    "tfidf_transformer.fit(word_count_vector)"
   ]
  },
  {
   "cell_type": "code",
   "execution_count": 27,
   "metadata": {},
   "outputs": [],
   "source": [
    "# you only needs to do this once\n",
    "feature_names=cv.get_feature_names()"
   ]
  },
  {
   "cell_type": "code",
   "execution_count": 45,
   "metadata": {},
   "outputs": [
    {
     "data": {
      "text/plain": [
       "{'intelligent': 0.583,\n",
       " 'agents': 0.388,\n",
       " 'agent': 0.222,\n",
       " 'autonomous': 0.174,\n",
       " 'abstract': 0.174,\n",
       " 'may': 0.148,\n",
       " 'goals': 0.148,\n",
       " 'considered': 0.129,\n",
       " 'computer': 0.115,\n",
       " 'systems': 0.093}"
      ]
     },
     "execution_count": 45,
     "metadata": {},
     "output_type": "execute_result"
    }
   ],
   "source": [
    "# Toy example\n",
    "get_keywords(0)"
   ]
  },
  {
   "cell_type": "code",
   "execution_count": 30,
   "metadata": {},
   "outputs": [
    {
     "ename": "IndexError",
     "evalue": "list index out of range",
     "output_type": "error",
     "traceback": [
      "\u001b[0;31m---------------------------------------------------------------------------\u001b[0m",
      "\u001b[0;31mIndexError\u001b[0m                                Traceback (most recent call last)",
      "\u001b[0;32m<ipython-input-30-f4b71a00c537>\u001b[0m in \u001b[0;36m<module>\u001b[0;34m\u001b[0m\n\u001b[1;32m      1\u001b[0m \u001b[0;31m# adding keywords to df_node\u001b[0m\u001b[0;34m\u001b[0m\u001b[0;34m\u001b[0m\u001b[0;34m\u001b[0m\u001b[0m\n\u001b[0;32m----> 2\u001b[0;31m \u001b[0mdf_node\u001b[0m\u001b[0;34m[\u001b[0m\u001b[0;34m'keywords'\u001b[0m\u001b[0;34m]\u001b[0m \u001b[0;34m=\u001b[0m \u001b[0;34m[\u001b[0m\u001b[0mget_keywords\u001b[0m\u001b[0;34m(\u001b[0m\u001b[0midx\u001b[0m\u001b[0;34m)\u001b[0m \u001b[0;32mfor\u001b[0m \u001b[0midx\u001b[0m \u001b[0;32min\u001b[0m \u001b[0mrange\u001b[0m\u001b[0;34m(\u001b[0m\u001b[0mlen\u001b[0m\u001b[0;34m(\u001b[0m\u001b[0mdf_node\u001b[0m\u001b[0;34m)\u001b[0m\u001b[0;34m)\u001b[0m\u001b[0;34m]\u001b[0m\u001b[0;34m\u001b[0m\u001b[0;34m\u001b[0m\u001b[0m\n\u001b[0m",
      "\u001b[0;32m<ipython-input-30-f4b71a00c537>\u001b[0m in \u001b[0;36m<listcomp>\u001b[0;34m(.0)\u001b[0m\n\u001b[1;32m      1\u001b[0m \u001b[0;31m# adding keywords to df_node\u001b[0m\u001b[0;34m\u001b[0m\u001b[0;34m\u001b[0m\u001b[0;34m\u001b[0m\u001b[0m\n\u001b[0;32m----> 2\u001b[0;31m \u001b[0mdf_node\u001b[0m\u001b[0;34m[\u001b[0m\u001b[0;34m'keywords'\u001b[0m\u001b[0;34m]\u001b[0m \u001b[0;34m=\u001b[0m \u001b[0;34m[\u001b[0m\u001b[0mget_keywords\u001b[0m\u001b[0;34m(\u001b[0m\u001b[0midx\u001b[0m\u001b[0;34m)\u001b[0m \u001b[0;32mfor\u001b[0m \u001b[0midx\u001b[0m \u001b[0;32min\u001b[0m \u001b[0mrange\u001b[0m\u001b[0;34m(\u001b[0m\u001b[0mlen\u001b[0m\u001b[0;34m(\u001b[0m\u001b[0mdf_node\u001b[0m\u001b[0;34m)\u001b[0m\u001b[0;34m)\u001b[0m\u001b[0;34m]\u001b[0m\u001b[0;34m\u001b[0m\u001b[0;34m\u001b[0m\u001b[0m\n\u001b[0m",
      "\u001b[0;32m<ipython-input-17-e89d31168ecb>\u001b[0m in \u001b[0;36mget_keywords\u001b[0;34m(idx)\u001b[0m\n\u001b[1;32m     30\u001b[0m \u001b[0;34m\u001b[0m\u001b[0m\n\u001b[1;32m     31\u001b[0m     \u001b[0;31m#generate tf-idf for the given document\u001b[0m\u001b[0;34m\u001b[0m\u001b[0;34m\u001b[0m\u001b[0;34m\u001b[0m\u001b[0m\n\u001b[0;32m---> 32\u001b[0;31m     \u001b[0mtf_idf_vector\u001b[0m\u001b[0;34m=\u001b[0m\u001b[0mtfidf_transformer\u001b[0m\u001b[0;34m.\u001b[0m\u001b[0mtransform\u001b[0m\u001b[0;34m(\u001b[0m\u001b[0mcv\u001b[0m\u001b[0;34m.\u001b[0m\u001b[0mtransform\u001b[0m\u001b[0;34m(\u001b[0m\u001b[0;34m[\u001b[0m\u001b[0mdocs\u001b[0m\u001b[0;34m[\u001b[0m\u001b[0midx\u001b[0m\u001b[0;34m]\u001b[0m\u001b[0;34m]\u001b[0m\u001b[0;34m)\u001b[0m\u001b[0;34m)\u001b[0m\u001b[0;34m\u001b[0m\u001b[0;34m\u001b[0m\u001b[0m\n\u001b[0m\u001b[1;32m     33\u001b[0m \u001b[0;34m\u001b[0m\u001b[0m\n\u001b[1;32m     34\u001b[0m     \u001b[0;31m#sort the tf-idf vectors by descending order of scores\u001b[0m\u001b[0;34m\u001b[0m\u001b[0;34m\u001b[0m\u001b[0;34m\u001b[0m\u001b[0m\n",
      "\u001b[0;31mIndexError\u001b[0m: list index out of range"
     ]
    }
   ],
   "source": [
    "# adding keywords to df_node\n",
    "df_node['keywords'] = [get_keywords(idx) for idx in range(len(df_node))]"
   ]
  },
  {
   "cell_type": "code",
   "execution_count": null,
   "metadata": {},
   "outputs": [],
   "source": [
    "df_node.head()"
   ]
  },
  {
   "cell_type": "code",
   "execution_count": null,
   "metadata": {},
   "outputs": [],
   "source": [
    "df_node.to_csv(DF_NODE_FILENAME)"
   ]
  },
  {
   "cell_type": "code",
   "execution_count": null,
   "metadata": {},
   "outputs": [],
   "source": [
    "df_edge = pd.DataFrame(columns=['source','target'])\n",
    "df_edge['source'] = [df_node[df_node.name==name].index.values[0] for name in edge_list.source]\n",
    "df_edge['target'] = [df_node[df_node.name==name].index.values[0] for name in edge_list.target]\n",
    "df_edge.to_csv(DF_EDGE_FILENAME)"
   ]
  },
  {
   "cell_type": "code",
   "execution_count": null,
   "metadata": {},
   "outputs": [],
   "source": [
    "df_edge.head()"
   ]
  },
  {
   "cell_type": "code",
   "execution_count": null,
   "metadata": {},
   "outputs": [],
   "source": [
    "node2vec_model.save(NODE2VEC_FILENAME)"
   ]
  },
  {
   "cell_type": "markdown",
   "metadata": {},
   "source": [
    "# Combining text representations and graph geometry\n",
    "\n",
    "- Obtain representations of summaries as word2vec or bert embeddings\n",
    "- Perform walks and average embeddings\n",
    "\n",
    "## Scalability limitations\n",
    "\n",
    "- We would need a lot of computational resources for parsing the text and learning word embeddings from all these summaries. However one can use pre-trained embeddings to fix this issue."
   ]
  },
  {
   "cell_type": "code",
   "execution_count": null,
   "metadata": {},
   "outputs": [],
   "source": [
    "import torch\n",
    "from transformers import *\n",
    "from spectral_clustering import *\n",
    "\n",
    "# Load pretrained model/tokenizer\n",
    "tokenizer = BertTokenizer.from_pretrained('bert-base-uncased')\n",
    "model = BertModel.from_pretrained('bert-base-uncased')\n",
    "nlp = en_core_web_md.load()\n",
    "\n",
    "walks = node2vec.walks"
   ]
  },
  {
   "cell_type": "code",
   "execution_count": null,
   "metadata": {},
   "outputs": [],
   "source": [
    "def bert_embedding(summary):\n",
    "    \"Encode text using Bert model.\"\n",
    "    input_ids = torch.tensor([tokenizer.encode(summary, add_special_tokens=True)])  # Add special tokens takes care of adding [CLS], [SEP], <s>... tokens in the right way for each model.\n",
    "    with torch.no_grad():\n",
    "        last_hidden_states = model(input_ids)[0]  # Models outputs are now tuples\n",
    "        last_hidden_states = last_hidden_states.squeeze().mean(dim=0)\n",
    "    return last_hidden_states.numpy()"
   ]
  },
  {
   "cell_type": "code",
   "execution_count": null,
   "metadata": {},
   "outputs": [],
   "source": [
    "def get_weighted_walk_of_embeddings(walk, embeddings_dict, source_weight=0.75):\n",
    "    \"Given a source embedding and a walk of embeddings, returns the weighted average of embeddings.\"\n",
    "    walk_weight = (1-source_weight)/(len(walk)-1)\n",
    "    bert_embeddings = [embeddings_dict[node] for node in walk]\n",
    "    return source_weight*bert_embeddings[0] + walk_weight*sum(bert_embeddings[1:])"
   ]
  },
  {
   "cell_type": "code",
   "execution_count": null,
   "metadata": {},
   "outputs": [],
   "source": [
    "def compute_similarities(summary, corpus, top_n=10):\n",
    "    \"\"\"Given an embedding and a corpus, returns the closest k embeddings.\"\"\"\n",
    "    similarities = {k:(1 - spatial.distance.cosine(summary, v))for k, v in corpus.items()}\n",
    "    similarities = dict(sorted(similarities.items(), key = itemgetter(1), reverse = True)[:top_n])\n",
    "    return similarities"
   ]
  },
  {
   "cell_type": "code",
   "execution_count": null,
   "metadata": {},
   "outputs": [],
   "source": [
    "# Scrapping summary for each article\n",
    "# ~25 sc per 100 articles. Not very efficient since we make requests sequentially and not in batch\n",
    "#t = time.time()\n",
    "summaries = [get_summary(node, num_chars=280) for node in graph.nodes()]\n",
    "#print(\"Scrapped summaries in {0:.0f} seconds\".format(time.time()-t))"
   ]
  },
  {
   "cell_type": "code",
   "execution_count": null,
   "metadata": {},
   "outputs": [],
   "source": [
    "mean_embeddings = [nlp(summary).vector for summary in summaries]\n",
    "embeddings_dict = dict(zip(list(graph.nodes()), mean_embeddings))"
   ]
  },
  {
   "cell_type": "code",
   "execution_count": null,
   "metadata": {},
   "outputs": [],
   "source": [
    "walk_embeddings_dict = {k:[] for k in embeddings_dict.keys()}\n",
    "\n",
    "for walk in walks:\n",
    "    walk_embeddings_dict[walk[0]].append(get_weighted_walk_of_embeddings(walk, embeddings_dict, source_weight=0.75))\n",
    "\n",
    "walk_averaged_embeddings_dict = {k:sum(v)/len(v) for k, v in walk_embeddings_dict.items()}"
   ]
  },
  {
   "cell_type": "code",
   "execution_count": null,
   "metadata": {},
   "outputs": [],
   "source": [
    "compute_similarities(walk_averaged_embeddings_dict['space research'], walk_averaged_embeddings_dict)"
   ]
  },
  {
   "cell_type": "code",
   "execution_count": null,
   "metadata": {},
   "outputs": [],
   "source": [
    "mean_embeddings_bert = [bert_embedding(summary) for summary in summaries]\n",
    "embeddings_dict_bert = dict(zip(list(graph.nodes()), mean_embeddings_bert))"
   ]
  },
  {
   "cell_type": "code",
   "execution_count": null,
   "metadata": {},
   "outputs": [],
   "source": [
    "walk_embeddings_dict_bert = {k:[] for k in embeddings_dict_bert.keys()}\n",
    "\n",
    "for walk in walks:\n",
    "    walk_embeddings_dict_bert[walk[0]].append(get_weighted_walk_of_embeddings(walk, embeddings_dict_bert, source_weight=0.75))\n",
    "\n",
    "walk_averaged_embeddings_dict_bert = {k:sum(v)/len(v) for k, v in walk_embeddings_dict_bert.items()}"
   ]
  },
  {
   "cell_type": "code",
   "execution_count": null,
   "metadata": {},
   "outputs": [],
   "source": [
    "compute_similarities(walk_averaged_embeddings_dict_bert['space research'], walk_averaged_embeddings_dict_bert)"
   ]
  },
  {
   "cell_type": "code",
   "execution_count": null,
   "metadata": {},
   "outputs": [],
   "source": [
    "#Reindex according to the dataframe\n",
    "mean_embeddings_bert_array = np.zeros((len(mean_embeddings_bert),len(mean_embeddings_bert[0])))\n",
    "for k,v in walk_averaged_embeddings_dict_bert.items():\n",
    "    idx = df_node[df_node.name == k].index.values[0]\n",
    "    mean_embeddings_bert_array[idx] = v\n",
    "np.save(BERT_MEAN_FILENAME,mean_embeddings_bert_array)"
   ]
  },
  {
   "cell_type": "code",
   "execution_count": null,
   "metadata": {},
   "outputs": [],
   "source": [
    "#Reindex according to the dataframe\n",
    "embeddings_bert_array = np.zeros((len(mean_embeddings_bert),len(mean_embeddings_bert[0])))\n",
    "for k,v in embeddings_dict_bert.items():\n",
    "    idx = df_node[df_node.name == k].index.values[0]\n",
    "    embeddings_bert_array[idx] = v"
   ]
  },
  {
   "cell_type": "code",
   "execution_count": null,
   "metadata": {},
   "outputs": [],
   "source": [
    "#TODO tune param\n",
    "proj = laplacian_eigenmaps(embeddings_bert_array, dim=len(mean_embeddings_bert[0]), sigma=8, epsilon=0.01, normalize=True)\n",
    "np.save(SPECTRAL_CLUSTERING_FILENAME,proj)"
   ]
  }
 ],
 "metadata": {
  "kernelspec": {
   "display_name": "Python 3",
   "language": "python",
   "name": "python3"
  },
  "language_info": {
   "codemirror_mode": {
    "name": "ipython",
    "version": 3
   },
   "file_extension": ".py",
   "mimetype": "text/x-python",
   "name": "python",
   "nbconvert_exporter": "python",
   "pygments_lexer": "ipython3",
   "version": "3.7.3"
  }
 },
 "nbformat": 4,
 "nbformat_minor": 2
}
