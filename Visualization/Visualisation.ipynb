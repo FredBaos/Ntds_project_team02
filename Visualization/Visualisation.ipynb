{
 "cells": [
  {
   "cell_type": "code",
   "execution_count": 1,
   "metadata": {},
   "outputs": [],
   "source": [
    "#pip3 install notebook ipywidgets plotly\n",
    "#jupyter nbextension enable --py widgetsnbextension\n",
    "#jupyter nbextension enable --py plotlywidget"
   ]
  },
  {
   "cell_type": "code",
   "execution_count": 2,
   "metadata": {},
   "outputs": [],
   "source": [
    "import igraph as ig\n",
    "import pandas as pd\n",
    "import webbrowser\n",
    "import json\n",
    "import urllib.request\n",
    "import chart_studio.plotly as py\n",
    "import plotly.graph_objs as go\n",
    "from ipywidgets import widgets\n",
    "\n",
    "from utils import *\n",
    "\n",
    "import sys\n",
    "sys.path.append(\"..\")\n",
    "# from predict import *"
   ]
  },
  {
   "cell_type": "markdown",
   "metadata": {},
   "source": [
    "This visualization is inspired from plotly officiel tutorials: https://plot.ly/python/v3/3d-network-graph/"
   ]
  },
  {
   "cell_type": "code",
   "execution_count": 3,
   "metadata": {},
   "outputs": [],
   "source": [
    "# Load some data\n",
    "data = []\n",
    "req = urllib.request.Request(\"https://raw.githubusercontent.com/plotly/datasets/master/miserables.json\")\n",
    "opener = urllib.request.build_opener()\n",
    "f = opener.open(req)\n",
    "data = json.loads(f.read())"
   ]
  },
  {
   "cell_type": "code",
   "execution_count": 4,
   "metadata": {},
   "outputs": [],
   "source": [
    "df_node = pd.DataFrame(data['nodes'])\n",
    "df_node.drop(columns=['group'],axis=1,inplace=True)\n",
    "df_node['url'] = 'https://fr.wikipedia.org/wiki/In_Deep'\n",
    "df_edge = pd.DataFrame(data['links'])\n",
    "df_edge.drop(columns=['value'],axis=1,inplace=True)"
   ]
  },
  {
   "cell_type": "code",
   "execution_count": 5,
   "metadata": {},
   "outputs": [
    {
     "data": {
      "text/html": [
       "<div>\n",
       "<style scoped>\n",
       "    .dataframe tbody tr th:only-of-type {\n",
       "        vertical-align: middle;\n",
       "    }\n",
       "\n",
       "    .dataframe tbody tr th {\n",
       "        vertical-align: top;\n",
       "    }\n",
       "\n",
       "    .dataframe thead th {\n",
       "        text-align: right;\n",
       "    }\n",
       "</style>\n",
       "<table border=\"1\" class=\"dataframe\">\n",
       "  <thead>\n",
       "    <tr style=\"text-align: right;\">\n",
       "      <th></th>\n",
       "      <th>name</th>\n",
       "      <th>url</th>\n",
       "    </tr>\n",
       "  </thead>\n",
       "  <tbody>\n",
       "    <tr>\n",
       "      <td>0</td>\n",
       "      <td>Myriel</td>\n",
       "      <td>https://fr.wikipedia.org/wiki/In_Deep</td>\n",
       "    </tr>\n",
       "    <tr>\n",
       "      <td>1</td>\n",
       "      <td>Napoleon</td>\n",
       "      <td>https://fr.wikipedia.org/wiki/In_Deep</td>\n",
       "    </tr>\n",
       "    <tr>\n",
       "      <td>2</td>\n",
       "      <td>Mlle.Baptistine</td>\n",
       "      <td>https://fr.wikipedia.org/wiki/In_Deep</td>\n",
       "    </tr>\n",
       "    <tr>\n",
       "      <td>3</td>\n",
       "      <td>Mme.Magloire</td>\n",
       "      <td>https://fr.wikipedia.org/wiki/In_Deep</td>\n",
       "    </tr>\n",
       "    <tr>\n",
       "      <td>4</td>\n",
       "      <td>CountessdeLo</td>\n",
       "      <td>https://fr.wikipedia.org/wiki/In_Deep</td>\n",
       "    </tr>\n",
       "  </tbody>\n",
       "</table>\n",
       "</div>"
      ],
      "text/plain": [
       "              name                                    url\n",
       "0           Myriel  https://fr.wikipedia.org/wiki/In_Deep\n",
       "1         Napoleon  https://fr.wikipedia.org/wiki/In_Deep\n",
       "2  Mlle.Baptistine  https://fr.wikipedia.org/wiki/In_Deep\n",
       "3     Mme.Magloire  https://fr.wikipedia.org/wiki/In_Deep\n",
       "4     CountessdeLo  https://fr.wikipedia.org/wiki/In_Deep"
      ]
     },
     "execution_count": 5,
     "metadata": {},
     "output_type": "execute_result"
    }
   ],
   "source": [
    "df_node.head()"
   ]
  },
  {
   "cell_type": "code",
   "execution_count": 6,
   "metadata": {},
   "outputs": [
    {
     "data": {
      "text/html": [
       "<div>\n",
       "<style scoped>\n",
       "    .dataframe tbody tr th:only-of-type {\n",
       "        vertical-align: middle;\n",
       "    }\n",
       "\n",
       "    .dataframe tbody tr th {\n",
       "        vertical-align: top;\n",
       "    }\n",
       "\n",
       "    .dataframe thead th {\n",
       "        text-align: right;\n",
       "    }\n",
       "</style>\n",
       "<table border=\"1\" class=\"dataframe\">\n",
       "  <thead>\n",
       "    <tr style=\"text-align: right;\">\n",
       "      <th></th>\n",
       "      <th>source</th>\n",
       "      <th>target</th>\n",
       "    </tr>\n",
       "  </thead>\n",
       "  <tbody>\n",
       "    <tr>\n",
       "      <td>0</td>\n",
       "      <td>1</td>\n",
       "      <td>0</td>\n",
       "    </tr>\n",
       "    <tr>\n",
       "      <td>1</td>\n",
       "      <td>2</td>\n",
       "      <td>0</td>\n",
       "    </tr>\n",
       "    <tr>\n",
       "      <td>2</td>\n",
       "      <td>3</td>\n",
       "      <td>0</td>\n",
       "    </tr>\n",
       "    <tr>\n",
       "      <td>3</td>\n",
       "      <td>3</td>\n",
       "      <td>2</td>\n",
       "    </tr>\n",
       "    <tr>\n",
       "      <td>4</td>\n",
       "      <td>4</td>\n",
       "      <td>0</td>\n",
       "    </tr>\n",
       "  </tbody>\n",
       "</table>\n",
       "</div>"
      ],
      "text/plain": [
       "   source  target\n",
       "0       1       0\n",
       "1       2       0\n",
       "2       3       0\n",
       "3       3       2\n",
       "4       4       0"
      ]
     },
     "execution_count": 6,
     "metadata": {},
     "output_type": "execute_result"
    }
   ],
   "source": [
    "df_edge.head()"
   ]
  },
  {
   "cell_type": "code",
   "execution_count": null,
   "metadata": {},
   "outputs": [],
   "source": [
    "# df_node = pd.read_csv(DF_NODE_PATH)\n",
    "# df_edge = pd.read_csv(EDGE_PATH)"
   ]
  },
  {
   "cell_type": "code",
   "execution_count": 7,
   "metadata": {},
   "outputs": [],
   "source": [
    "labels = df_node['name'].tolist()\n",
    "color_node = [0.0 for i in range(len(labels))]\n",
    "texts_to_show = [None for i in range(len(labels))]\n",
    "\n",
    "# Create plotting items\n",
    "title, annotations, textbox_query, selector, query_answer, g = create_plot_items(df_node,df_edge,labels,color_node,texts_to_show)"
   ]
  },
  {
   "cell_type": "code",
   "execution_count": 8,
   "metadata": {},
   "outputs": [],
   "source": [
    "#bert_embedder_spectral, bert_embedder_mean, node2vec_embed, df_node = load_models()"
   ]
  },
  {
   "cell_type": "code",
   "execution_count": 9,
   "metadata": {},
   "outputs": [],
   "source": [
    "# On a new query, compute the predictions and color the nodes accordingly\n",
    "def response(change):\n",
    "    current_selector = selector.value\n",
    "    query = textbox_query.value\n",
    "#     preds = make_prediction(query, method, bert_embedder_spectral, bert_embedder_mean, node2vec_embed, df_node)\n",
    "    preds = {10:1,11:0.8,12:0.6,13:0.4,14:0.3}\n",
    "    dict_colors = compute_color(preds)\n",
    "   \n",
    "    html_text = create_text(list(dict_colors.keys()),df_node)\n",
    "    query_answer.value = html_text\n",
    "    \n",
    "    for k,v in dict_colors.items():\n",
    "        color_node[k] = v\n",
    "        texts_to_show[k] = labels[k]\n",
    "        \n",
    "    with g.batch_update():\n",
    "        g.data[1].marker.color = color_node\n",
    "        g.data[1].text = texts_to_show\n",
    "\n",
    "textbox_query.observe(response, names=\"value\")\n",
    "selector.observe(response, names=\"value\")\n",
    "\n",
    "# Open url when clicking on node\n",
    "def update_point(trace, points, selector):\n",
    "    if len(points.point_inds) != 0:\n",
    "        url = g.data[1].customdata[points.point_inds[0]]\n",
    "        webbrowser.open_new_tab(url)\n",
    "\n",
    "g.data[1].on_click(update_point)"
   ]
  },
  {
   "cell_type": "code",
   "execution_count": 10,
   "metadata": {},
   "outputs": [
    {
     "data": {
      "application/vnd.jupyter.widget-view+json": {
       "model_id": "6ceb720bc0774a31b4a86429c9523f1a",
       "version_major": 2,
       "version_minor": 0
      },
      "text/plain": [
       "VBox(children=(HTML(value='<h3> Wikipedia Recommender System </h3>'), HTML(value='<h4> By clicking on a node, …"
      ]
     },
     "metadata": {},
     "output_type": "display_data"
    }
   ],
   "source": [
    "container = widgets.HBox(children=[textbox_query, selector])\n",
    "widgets.VBox([title, annotations, container, query_answer, g])"
   ]
  }
 ],
 "metadata": {
  "kernelspec": {
   "display_name": "Python 3",
   "language": "python",
   "name": "python3"
  },
  "language_info": {
   "codemirror_mode": {
    "name": "ipython",
    "version": 3
   },
   "file_extension": ".py",
   "mimetype": "text/x-python",
   "name": "python",
   "nbconvert_exporter": "python",
   "pygments_lexer": "ipython3",
   "version": "3.6.8"
  }
 },
 "nbformat": 4,
 "nbformat_minor": 4
}
