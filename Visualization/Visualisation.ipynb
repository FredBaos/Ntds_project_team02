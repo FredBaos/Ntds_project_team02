{
 "cells": [
  {
   "cell_type": "code",
   "execution_count": 1,
   "metadata": {},
   "outputs": [],
   "source": [
    "#pip3 install notebook ipywidgets plotly\n",
    "#jupyter nbextension enable --py widgetsnbextension\n",
    "#jupyter nbextension enable --py plotlywidget"
   ]
  },
  {
   "cell_type": "code",
   "execution_count": 2,
   "metadata": {},
   "outputs": [],
   "source": [
    "import igraph as ig\n",
    "import pandas as pd\n",
    "import webbrowser\n",
    "import json\n",
    "import urllib.request\n",
    "import chart_studio.plotly as py\n",
    "import plotly.graph_objs as go\n",
    "from ipywidgets import widgets\n",
    "\n",
    "from utils import *\n",
    "\n",
    "import sys\n",
    "sys.path.append(\"..\")\n",
    "from predict import *\n",
    "from config import *\n",
    "\n",
    "import os\n",
    "parent_dir = os.path.dirname(os.getcwd())"
   ]
  },
  {
   "cell_type": "markdown",
   "metadata": {},
   "source": [
    "This visualization is inspired from plotly officiel tutorials: https://plot.ly/python/v3/3d-network-graph/"
   ]
  },
  {
   "cell_type": "code",
   "execution_count": 3,
   "metadata": {},
   "outputs": [],
   "source": [
    "#Load data for the graph\n",
    "df_node = pd.read_csv(os.path.join(parent_dir,DF_NODE_FILENAME)).drop('Unnamed: 0',axis=1)\n",
    "df_edge = pd.read_csv(os.path.join(parent_dir,DF_EDGE_FILENAME)).drop('Unnamed: 0',axis=1)"
   ]
  },
  {
   "cell_type": "code",
   "execution_count": 4,
   "metadata": {},
   "outputs": [
    {
     "data": {
      "text/html": [
       "<div>\n",
       "<style scoped>\n",
       "    .dataframe tbody tr th:only-of-type {\n",
       "        vertical-align: middle;\n",
       "    }\n",
       "\n",
       "    .dataframe tbody tr th {\n",
       "        vertical-align: top;\n",
       "    }\n",
       "\n",
       "    .dataframe thead th {\n",
       "        text-align: right;\n",
       "    }\n",
       "</style>\n",
       "<table border=\"1\" class=\"dataframe\">\n",
       "  <thead>\n",
       "    <tr style=\"text-align: right;\">\n",
       "      <th></th>\n",
       "      <th>name</th>\n",
       "      <th>url</th>\n",
       "    </tr>\n",
       "  </thead>\n",
       "  <tbody>\n",
       "    <tr>\n",
       "      <td>0</td>\n",
       "      <td>space research</td>\n",
       "      <td>https://en.wikipedia.org/wiki/space_research</td>\n",
       "    </tr>\n",
       "    <tr>\n",
       "      <td>1</td>\n",
       "      <td>space exploration</td>\n",
       "      <td>https://en.wikipedia.org/wiki/space_exploration</td>\n",
       "    </tr>\n",
       "    <tr>\n",
       "      <td>2</td>\n",
       "      <td>space race</td>\n",
       "      <td>https://en.wikipedia.org/wiki/space_race</td>\n",
       "    </tr>\n",
       "    <tr>\n",
       "      <td>3</td>\n",
       "      <td>space probe</td>\n",
       "      <td>https://en.wikipedia.org/wiki/space_probe</td>\n",
       "    </tr>\n",
       "    <tr>\n",
       "      <td>4</td>\n",
       "      <td>u.s. space exploration history on u.s. stamps</td>\n",
       "      <td>https://en.wikipedia.org/wiki/u.s._space_explo...</td>\n",
       "    </tr>\n",
       "  </tbody>\n",
       "</table>\n",
       "</div>"
      ],
      "text/plain": [
       "                                            name  \\\n",
       "0                                 space research   \n",
       "1                              space exploration   \n",
       "2                                     space race   \n",
       "3                                    space probe   \n",
       "4  u.s. space exploration history on u.s. stamps   \n",
       "\n",
       "                                                 url  \n",
       "0       https://en.wikipedia.org/wiki/space_research  \n",
       "1    https://en.wikipedia.org/wiki/space_exploration  \n",
       "2           https://en.wikipedia.org/wiki/space_race  \n",
       "3          https://en.wikipedia.org/wiki/space_probe  \n",
       "4  https://en.wikipedia.org/wiki/u.s._space_explo...  "
      ]
     },
     "execution_count": 4,
     "metadata": {},
     "output_type": "execute_result"
    }
   ],
   "source": [
    "df_node.head()"
   ]
  },
  {
   "cell_type": "code",
   "execution_count": 5,
   "metadata": {},
   "outputs": [
    {
     "data": {
      "text/html": [
       "<div>\n",
       "<style scoped>\n",
       "    .dataframe tbody tr th:only-of-type {\n",
       "        vertical-align: middle;\n",
       "    }\n",
       "\n",
       "    .dataframe tbody tr th {\n",
       "        vertical-align: top;\n",
       "    }\n",
       "\n",
       "    .dataframe thead th {\n",
       "        text-align: right;\n",
       "    }\n",
       "</style>\n",
       "<table border=\"1\" class=\"dataframe\">\n",
       "  <thead>\n",
       "    <tr style=\"text-align: right;\">\n",
       "      <th></th>\n",
       "      <th>source</th>\n",
       "      <th>target</th>\n",
       "    </tr>\n",
       "  </thead>\n",
       "  <tbody>\n",
       "    <tr>\n",
       "      <td>0</td>\n",
       "      <td>0</td>\n",
       "      <td>431</td>\n",
       "    </tr>\n",
       "    <tr>\n",
       "      <td>1</td>\n",
       "      <td>0</td>\n",
       "      <td>432</td>\n",
       "    </tr>\n",
       "    <tr>\n",
       "      <td>2</td>\n",
       "      <td>0</td>\n",
       "      <td>429</td>\n",
       "    </tr>\n",
       "    <tr>\n",
       "      <td>3</td>\n",
       "      <td>0</td>\n",
       "      <td>82</td>\n",
       "    </tr>\n",
       "    <tr>\n",
       "      <td>4</td>\n",
       "      <td>0</td>\n",
       "      <td>433</td>\n",
       "    </tr>\n",
       "  </tbody>\n",
       "</table>\n",
       "</div>"
      ],
      "text/plain": [
       "   source  target\n",
       "0       0     431\n",
       "1       0     432\n",
       "2       0     429\n",
       "3       0      82\n",
       "4       0     433"
      ]
     },
     "execution_count": 5,
     "metadata": {},
     "output_type": "execute_result"
    }
   ],
   "source": [
    "df_edge.head()"
   ]
  },
  {
   "cell_type": "code",
   "execution_count": 6,
   "metadata": {},
   "outputs": [],
   "source": [
    "# Create placeholders for graph information\n",
    "labels = df_node['name'].tolist()\n",
    "color_node = [0.0 for i in range(len(labels))]\n",
    "color_node_original = color_node.copy()\n",
    "texts_to_show = [None for i in range(len(labels))]\n",
    "texts_to_show_original = texts_to_show.copy()\n",
    "# Create plotting items\n",
    "# title, annotations, textbox_query, selector, query_answer, g = create_plot_items(df_node,df_edge,labels,color_node,texts_to_show)"
   ]
  },
  {
   "cell_type": "code",
   "execution_count": 7,
   "metadata": {},
   "outputs": [],
   "source": [
    "# import pickle\n",
    "# with open('graph,pkl','wb') as f:\n",
    "#     pickle.dump(g,f)"
   ]
  },
  {
   "cell_type": "code",
   "execution_count": 8,
   "metadata": {},
   "outputs": [],
   "source": [
    "# Load graph and models\n",
    "title, annotations, textbox_query, selector, query_answer, g = load_graph('graph,pkl')\n",
    "bert_embedder_spectral, bert_embedder_mean, node2vec_embed, df_node = load_models(parent_dir)"
   ]
  },
  {
   "cell_type": "code",
   "execution_count": 13,
   "metadata": {},
   "outputs": [],
   "source": [
    "# node2vec_embed.wv.vocab"
   ]
  },
  {
   "cell_type": "code",
   "execution_count": 11,
   "metadata": {},
   "outputs": [],
   "source": [
    "current_selector = selector.value\n",
    "\n",
    "# Choose the model\n",
    "def response(change):\n",
    "    global current_selector\n",
    "    current_selector = selector.value\n",
    "    make_query(textbox_query)\n",
    "    \n",
    "# On a new query, compute the predictions and color the nodes accordingly\n",
    "def make_query(user_query):\n",
    "    global current_selector\n",
    "    global color_node_original\n",
    "    global texts_to_show_original\n",
    "    texts_to_show = texts_to_show_original.copy()\n",
    "    color_node = color_node_original.copy()\n",
    "    \n",
    "    query = user_query.value\n",
    "    if query != \"\":\n",
    "        preds = make_prediction(query, current_selector, bert_embedder_spectral, bert_embedder_mean, node2vec_embed, df_node)\n",
    "        #preds = {10:1,11:0.8,12:0.6,13:0.4,14:0.3}\n",
    "        if preds == None:\n",
    "            html_text = create_text([],df_node)\n",
    "            query_answer.value = html_text\n",
    "        else:\n",
    "            dict_colors = compute_color(preds)\n",
    "\n",
    "            html_text = create_text(list(dict_colors.keys()),df_node)\n",
    "            query_answer.value = html_text\n",
    "\n",
    "            for k,v in dict_colors.items():\n",
    "                color_node[k] = v\n",
    "                texts_to_show[k] = labels[k]\n",
    "\n",
    "            with g.batch_update():\n",
    "                g.data[1].marker.color = color_node\n",
    "                g.data[1].text = texts_to_show\n",
    "            \n",
    "# Open url when clicking on node\n",
    "def update_point(trace, points, selector):\n",
    "    if len(points.point_inds) != 0:\n",
    "        url = g.data[1].customdata[points.point_inds[0]]\n",
    "        webbrowser.open_new_tab(url)\n",
    "    \n",
    "textbox_query.on_submit(make_query)\n",
    "selector.observe(response, names=\"value\")\n",
    "g.data[1].on_click(update_point)"
   ]
  },
  {
   "cell_type": "code",
   "execution_count": 12,
   "metadata": {},
   "outputs": [
    {
     "data": {
      "application/vnd.jupyter.widget-view+json": {
       "model_id": "530fd7fcdebe49a09e208e3f9a3b3f5b",
       "version_major": 2,
       "version_minor": 0
      },
      "text/plain": [
       "VBox(children=(HTML(value='<h3> Wikipedia Recommender System </h3>'), HTML(value='<h4> By clicking on a node, …"
      ]
     },
     "metadata": {},
     "output_type": "display_data"
    }
   ],
   "source": [
    "container = widgets.HBox(children=[textbox_query, selector])\n",
    "widgets.VBox([title, annotations, container, query_answer, g])"
   ]
  }
 ],
 "metadata": {
  "kernelspec": {
   "display_name": "Python 3",
   "language": "python",
   "name": "python3"
  },
  "language_info": {
   "codemirror_mode": {
    "name": "ipython",
    "version": 3
   },
   "file_extension": ".py",
   "mimetype": "text/x-python",
   "name": "python",
   "nbconvert_exporter": "python",
   "pygments_lexer": "ipython3",
   "version": "3.6.8"
  }
 },
 "nbformat": 4,
 "nbformat_minor": 4
}
