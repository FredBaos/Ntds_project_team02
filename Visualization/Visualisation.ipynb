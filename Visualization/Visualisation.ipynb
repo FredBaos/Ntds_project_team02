{
 "cells": [
  {
   "cell_type": "code",
   "execution_count": 13,
   "metadata": {},
   "outputs": [],
   "source": [
    "#pip3 install notebook ipywidgets plotly\n",
    "#jupyter nbextension enable --py widgetsnbextension\n",
    "#jupyter nbextension enable --py plotlywidget"
   ]
  },
  {
   "cell_type": "code",
   "execution_count": 14,
   "metadata": {},
   "outputs": [],
   "source": [
    "import igraph as ig\n",
    "import pandas as pd\n",
    "import webbrowser\n",
    "import json\n",
    "import urllib.request\n",
    "import chart_studio.plotly as py\n",
    "import plotly.graph_objs as go\n",
    "from ipywidgets import widgets\n",
    "\n",
    "from utils import *\n",
    "\n",
    "import sys\n",
    "sys.path.append(\"..\")\n",
    "from predict import *\n",
    "from config import *\n",
    "\n",
    "import os\n",
    "parent_dir = os.path.dirname(os.getcwd())"
   ]
  },
  {
   "cell_type": "markdown",
   "metadata": {},
   "source": [
    "This visualization is inspired from plotly officiel tutorials: https://plot.ly/python/v3/3d-network-graph/"
   ]
  },
  {
   "cell_type": "code",
   "execution_count": 15,
   "metadata": {},
   "outputs": [],
   "source": [
    "#Load data for the graph\n",
    "df_node = pd.read_csv(os.path.join(parent_dir,DF_NODE_FILENAME)).drop('Unnamed: 0',axis=1)\n",
    "df_edge = pd.read_csv(os.path.join(parent_dir,DF_EDGE_FILENAME)).drop('Unnamed: 0',axis=1)"
   ]
  },
  {
   "cell_type": "code",
   "execution_count": 16,
   "metadata": {},
   "outputs": [
    {
     "data": {
      "text/html": [
       "<div>\n",
       "<style scoped>\n",
       "    .dataframe tbody tr th:only-of-type {\n",
       "        vertical-align: middle;\n",
       "    }\n",
       "\n",
       "    .dataframe tbody tr th {\n",
       "        vertical-align: top;\n",
       "    }\n",
       "\n",
       "    .dataframe thead th {\n",
       "        text-align: right;\n",
       "    }\n",
       "</style>\n",
       "<table border=\"1\" class=\"dataframe\">\n",
       "  <thead>\n",
       "    <tr style=\"text-align: right;\">\n",
       "      <th></th>\n",
       "      <th>name</th>\n",
       "      <th>url</th>\n",
       "      <th>keywords</th>\n",
       "    </tr>\n",
       "  </thead>\n",
       "  <tbody>\n",
       "    <tr>\n",
       "      <td>0</td>\n",
       "      <td>intelligent agent</td>\n",
       "      <td>https://en.wikipedia.org/wiki/Intelligent_agent</td>\n",
       "      <td>['intelligent', 'agents', 'agent', 'autonomous...</td>\n",
       "    </tr>\n",
       "    <tr>\n",
       "      <td>1</td>\n",
       "      <td>chatbot</td>\n",
       "      <td>https://en.wikipedia.org/wiki/Chatbot</td>\n",
       "      <td>['chatbots', 'apps', 'keywords', 'conversation...</td>\n",
       "    </tr>\n",
       "    <tr>\n",
       "      <td>2</td>\n",
       "      <td>artificial neural network</td>\n",
       "      <td>https://en.wikipedia.org/wiki/Artificial_neura...</td>\n",
       "      <td>['cats', 'cat', 'neurons', 'images', 'biologic...</td>\n",
       "    </tr>\n",
       "    <tr>\n",
       "      <td>3</td>\n",
       "      <td>artificial intelligence</td>\n",
       "      <td>https://en.wikipedia.org/wiki/Artificial_intel...</td>\n",
       "      <td>['ai', 'intelligence', 'machines', 'humans', '...</td>\n",
       "    </tr>\n",
       "    <tr>\n",
       "      <td>4</td>\n",
       "      <td>weak ai</td>\n",
       "      <td>https://en.wikipedia.org/wiki/Weak_AI</td>\n",
       "      <td>['ai', 'narrow', 'weak', 'minds', 'intelligenc...</td>\n",
       "    </tr>\n",
       "  </tbody>\n",
       "</table>\n",
       "</div>"
      ],
      "text/plain": [
       "                        name  \\\n",
       "0          intelligent agent   \n",
       "1                    chatbot   \n",
       "2  artificial neural network   \n",
       "3    artificial intelligence   \n",
       "4                    weak ai   \n",
       "\n",
       "                                                 url  \\\n",
       "0    https://en.wikipedia.org/wiki/Intelligent_agent   \n",
       "1              https://en.wikipedia.org/wiki/Chatbot   \n",
       "2  https://en.wikipedia.org/wiki/Artificial_neura...   \n",
       "3  https://en.wikipedia.org/wiki/Artificial_intel...   \n",
       "4              https://en.wikipedia.org/wiki/Weak_AI   \n",
       "\n",
       "                                            keywords  \n",
       "0  ['intelligent', 'agents', 'agent', 'autonomous...  \n",
       "1  ['chatbots', 'apps', 'keywords', 'conversation...  \n",
       "2  ['cats', 'cat', 'neurons', 'images', 'biologic...  \n",
       "3  ['ai', 'intelligence', 'machines', 'humans', '...  \n",
       "4  ['ai', 'narrow', 'weak', 'minds', 'intelligenc...  "
      ]
     },
     "execution_count": 16,
     "metadata": {},
     "output_type": "execute_result"
    }
   ],
   "source": [
    "df_node.head()"
   ]
  },
  {
   "cell_type": "code",
   "execution_count": 17,
   "metadata": {},
   "outputs": [
    {
     "data": {
      "text/html": [
       "<div>\n",
       "<style scoped>\n",
       "    .dataframe tbody tr th:only-of-type {\n",
       "        vertical-align: middle;\n",
       "    }\n",
       "\n",
       "    .dataframe tbody tr th {\n",
       "        vertical-align: top;\n",
       "    }\n",
       "\n",
       "    .dataframe thead th {\n",
       "        text-align: right;\n",
       "    }\n",
       "</style>\n",
       "<table border=\"1\" class=\"dataframe\">\n",
       "  <thead>\n",
       "    <tr style=\"text-align: right;\">\n",
       "      <th></th>\n",
       "      <th>source</th>\n",
       "      <th>target</th>\n",
       "    </tr>\n",
       "  </thead>\n",
       "  <tbody>\n",
       "    <tr>\n",
       "      <td>0</td>\n",
       "      <td>0</td>\n",
       "      <td>95</td>\n",
       "    </tr>\n",
       "    <tr>\n",
       "      <td>1</td>\n",
       "      <td>0</td>\n",
       "      <td>69</td>\n",
       "    </tr>\n",
       "    <tr>\n",
       "      <td>2</td>\n",
       "      <td>0</td>\n",
       "      <td>103</td>\n",
       "    </tr>\n",
       "    <tr>\n",
       "      <td>3</td>\n",
       "      <td>0</td>\n",
       "      <td>94</td>\n",
       "    </tr>\n",
       "    <tr>\n",
       "      <td>4</td>\n",
       "      <td>0</td>\n",
       "      <td>99</td>\n",
       "    </tr>\n",
       "  </tbody>\n",
       "</table>\n",
       "</div>"
      ],
      "text/plain": [
       "   source  target\n",
       "0       0      95\n",
       "1       0      69\n",
       "2       0     103\n",
       "3       0      94\n",
       "4       0      99"
      ]
     },
     "execution_count": 17,
     "metadata": {},
     "output_type": "execute_result"
    }
   ],
   "source": [
    "df_edge.head()"
   ]
  },
  {
   "cell_type": "code",
   "execution_count": 18,
   "metadata": {},
   "outputs": [],
   "source": [
    "# Create placeholders for graph information\n",
    "labels = df_node['name'].tolist()\n",
    "color_node = ['rgba(200,200,200,0.05)' for i in range(3*len(labels))]\n",
    "color_node_original = color_node.copy()\n",
    "texts_to_show = [None for i in range(len(labels))]\n",
    "texts_to_show_original = texts_to_show.copy()\n",
    "size_node = [15 for i in range(len(labels))]\n",
    "size_node_original = size_node.copy()\n",
    "color_edge = ['rgba(128,128,128,0.7)' for _ in range(3*len(df_edge))]\n",
    "color_edge_original = color_edge.copy()\n",
    "\n",
    "# Create plotting items\n",
    "# title, annotations, textbox_query, selector, query_answer, g = create_plot_items(df_node,df_edge,labels,color_node,texts_to_show,color_edge)"
   ]
  },
  {
   "cell_type": "code",
   "execution_count": 19,
   "metadata": {},
   "outputs": [],
   "source": [
    "# import pickle\n",
    "# with open('graph,pkl','wb') as f:\n",
    "#     pickle.dump(g,f)"
   ]
  },
  {
   "cell_type": "code",
   "execution_count": 20,
   "metadata": {},
   "outputs": [
    {
     "ename": "AttributeError",
     "evalue": "Can't get attribute 'Word2VecKeyedVectors' on <module 'gensim.models.deprecated.keyedvectors' from '/home/frederic/anaconda3/envs/ntds/lib/python3.7/site-packages/gensim/models/deprecated/keyedvectors.py'>",
     "output_type": "error",
     "traceback": [
      "\u001b[0;31m---------------------------------------------------------------------------\u001b[0m",
      "\u001b[0;31mAttributeError\u001b[0m                            Traceback (most recent call last)",
      "\u001b[0;32m~/anaconda3/envs/ntds/lib/python3.7/site-packages/gensim/models/word2vec.py\u001b[0m in \u001b[0;36mload\u001b[0;34m(cls, *args, **kwargs)\u001b[0m\n",
      "\u001b[0;32m~/anaconda3/envs/ntds/lib/python3.7/site-packages/gensim/models/base_any2vec.py\u001b[0m in \u001b[0;36mload\u001b[0;34m(cls, *args, **kwargs)\u001b[0m\n",
      "\u001b[0;32m~/anaconda3/envs/ntds/lib/python3.7/site-packages/gensim/models/base_any2vec.py\u001b[0m in \u001b[0;36mload\u001b[0;34m(cls, fname_or_handle, **kwargs)\u001b[0m\n",
      "\u001b[0;32m~/anaconda3/envs/ntds/lib/python3.7/site-packages/gensim/utils.py\u001b[0m in \u001b[0;36mload\u001b[0;34m(cls, fname, mmap)\u001b[0m\n",
      "\u001b[0;32m~/anaconda3/envs/ntds/lib/python3.7/site-packages/gensim/utils.py\u001b[0m in \u001b[0;36munpickle\u001b[0;34m(fname)\u001b[0m\n",
      "\u001b[0;32m~/anaconda3/envs/ntds/lib/python3.7/site-packages/numpy/random/_pickle.py\u001b[0m in \u001b[0;36m<module>\u001b[0;34m\u001b[0m\n\u001b[1;32m      1\u001b[0m \u001b[0;32mfrom\u001b[0m \u001b[0;34m.\u001b[0m\u001b[0mmtrand\u001b[0m \u001b[0;32mimport\u001b[0m \u001b[0mRandomState\u001b[0m\u001b[0;34m\u001b[0m\u001b[0;34m\u001b[0m\u001b[0m\n\u001b[0;32m----> 2\u001b[0;31m \u001b[0;32mfrom\u001b[0m \u001b[0;34m.\u001b[0m\u001b[0mphilox\u001b[0m \u001b[0;32mimport\u001b[0m \u001b[0mPhilox\u001b[0m\u001b[0;34m\u001b[0m\u001b[0;34m\u001b[0m\u001b[0m\n\u001b[0m\u001b[1;32m      3\u001b[0m \u001b[0;32mfrom\u001b[0m \u001b[0;34m.\u001b[0m\u001b[0mpcg64\u001b[0m \u001b[0;32mimport\u001b[0m \u001b[0mPCG64\u001b[0m\u001b[0;34m\u001b[0m\u001b[0;34m\u001b[0m\u001b[0m\n",
      "\u001b[0;32mphilox.pyx\u001b[0m in \u001b[0;36minit numpy.random.philox\u001b[0;34m()\u001b[0m\n",
      "\u001b[0;32mbit_generator.pyx\u001b[0m in \u001b[0;36minit numpy.random.bit_generator\u001b[0;34m()\u001b[0m\n",
      "\u001b[0;31mAttributeError\u001b[0m: type object 'numpy.random.bit_generator.SeedSequence' has no attribute '__reduce_cython__'",
      "\nDuring handling of the above exception, another exception occurred:\n",
      "\u001b[0;31mAttributeError\u001b[0m                            Traceback (most recent call last)",
      "\u001b[0;32m<ipython-input-20-cba8c4d55e49>\u001b[0m in \u001b[0;36m<module>\u001b[0;34m\u001b[0m\n\u001b[1;32m      1\u001b[0m \u001b[0;31m# Load graph and models\u001b[0m\u001b[0;34m\u001b[0m\u001b[0;34m\u001b[0m\u001b[0;34m\u001b[0m\u001b[0m\n\u001b[1;32m      2\u001b[0m \u001b[0mtitle\u001b[0m\u001b[0;34m,\u001b[0m \u001b[0mannotations\u001b[0m\u001b[0;34m,\u001b[0m \u001b[0mtextbox_query\u001b[0m\u001b[0;34m,\u001b[0m \u001b[0mselector\u001b[0m\u001b[0;34m,\u001b[0m \u001b[0mquery_answer\u001b[0m\u001b[0;34m,\u001b[0m \u001b[0mg\u001b[0m \u001b[0;34m=\u001b[0m \u001b[0mload_graph\u001b[0m\u001b[0;34m(\u001b[0m\u001b[0;34m'graph,pkl'\u001b[0m\u001b[0;34m)\u001b[0m\u001b[0;34m\u001b[0m\u001b[0;34m\u001b[0m\u001b[0m\n\u001b[0;32m----> 3\u001b[0;31m \u001b[0mquery_bot\u001b[0m \u001b[0;34m=\u001b[0m \u001b[0mload_models\u001b[0m\u001b[0;34m(\u001b[0m\u001b[0mparent_dir\u001b[0m\u001b[0;34m)\u001b[0m\u001b[0;34m\u001b[0m\u001b[0;34m\u001b[0m\u001b[0m\n\u001b[0m",
      "\u001b[0;32m~/Documents/Ntds_myfiles/git_project/predict.py\u001b[0m in \u001b[0;36mload_models\u001b[0;34m(folder, spectral_clustering_filename, fast_mean_filename, node2vec_filename, df_node_filename)\u001b[0m\n\u001b[1;32m    105\u001b[0m     \u001b[0mspectral_clustering_embed\u001b[0m \u001b[0;34m=\u001b[0m \u001b[0mnp\u001b[0m\u001b[0;34m.\u001b[0m\u001b[0mload\u001b[0m\u001b[0;34m(\u001b[0m\u001b[0mos\u001b[0m\u001b[0;34m.\u001b[0m\u001b[0mpath\u001b[0m\u001b[0;34m.\u001b[0m\u001b[0mjoin\u001b[0m\u001b[0;34m(\u001b[0m\u001b[0mfolder\u001b[0m\u001b[0;34m,\u001b[0m\u001b[0mspectral_clustering_filename\u001b[0m\u001b[0;34m)\u001b[0m\u001b[0;34m)\u001b[0m\u001b[0;34m\u001b[0m\u001b[0;34m\u001b[0m\u001b[0m\n\u001b[1;32m    106\u001b[0m \u001b[0;34m\u001b[0m\u001b[0m\n\u001b[0;32m--> 107\u001b[0;31m     \u001b[0mnode2vec\u001b[0m \u001b[0;34m=\u001b[0m \u001b[0mWord2Vec\u001b[0m\u001b[0;34m.\u001b[0m\u001b[0mload\u001b[0m\u001b[0;34m(\u001b[0m\u001b[0mos\u001b[0m\u001b[0;34m.\u001b[0m\u001b[0mpath\u001b[0m\u001b[0;34m.\u001b[0m\u001b[0mjoin\u001b[0m\u001b[0;34m(\u001b[0m\u001b[0mfolder\u001b[0m\u001b[0;34m,\u001b[0m\u001b[0mnode2vec_filename\u001b[0m\u001b[0;34m)\u001b[0m\u001b[0;34m)\u001b[0m\u001b[0;34m\u001b[0m\u001b[0;34m\u001b[0m\u001b[0m\n\u001b[0m\u001b[1;32m    108\u001b[0m \u001b[0;34m\u001b[0m\u001b[0m\n\u001b[1;32m    109\u001b[0m     \u001b[0;32mwith\u001b[0m \u001b[0mopen\u001b[0m\u001b[0;34m(\u001b[0m\u001b[0mos\u001b[0m\u001b[0;34m.\u001b[0m\u001b[0mpath\u001b[0m\u001b[0;34m.\u001b[0m\u001b[0mjoin\u001b[0m\u001b[0;34m(\u001b[0m\u001b[0mfolder\u001b[0m\u001b[0;34m,\u001b[0m\u001b[0mfast_mean_filename\u001b[0m\u001b[0;34m)\u001b[0m\u001b[0;34m,\u001b[0m\u001b[0;34m'rb'\u001b[0m\u001b[0;34m)\u001b[0m \u001b[0;32mas\u001b[0m \u001b[0mf\u001b[0m\u001b[0;34m:\u001b[0m\u001b[0;34m\u001b[0m\u001b[0;34m\u001b[0m\u001b[0m\n",
      "\u001b[0;32m~/anaconda3/envs/ntds/lib/python3.7/site-packages/gensim/models/word2vec.py\u001b[0m in \u001b[0;36mload\u001b[0;34m(cls, *args, **kwargs)\u001b[0m\n",
      "\u001b[0;32m~/anaconda3/envs/ntds/lib/python3.7/site-packages/gensim/models/deprecated/word2vec.py\u001b[0m in \u001b[0;36mload_old_word2vec\u001b[0;34m(*args, **kwargs)\u001b[0m\n",
      "\u001b[0;32m~/anaconda3/envs/ntds/lib/python3.7/site-packages/gensim/models/deprecated/word2vec.py\u001b[0m in \u001b[0;36mload\u001b[0;34m(cls, *args, **kwargs)\u001b[0m\n",
      "\u001b[0;32m~/anaconda3/envs/ntds/lib/python3.7/site-packages/gensim/models/deprecated/old_saveload.py\u001b[0m in \u001b[0;36mload\u001b[0;34m(cls, fname, mmap)\u001b[0m\n",
      "\u001b[0;32m~/anaconda3/envs/ntds/lib/python3.7/site-packages/gensim/models/deprecated/old_saveload.py\u001b[0m in \u001b[0;36munpickle\u001b[0;34m(fname)\u001b[0m\n",
      "\u001b[0;31mAttributeError\u001b[0m: Can't get attribute 'Word2VecKeyedVectors' on <module 'gensim.models.deprecated.keyedvectors' from '/home/frederic/anaconda3/envs/ntds/lib/python3.7/site-packages/gensim/models/deprecated/keyedvectors.py'>"
     ]
    }
   ],
   "source": [
    "# Load graph and models\n",
    "title, annotations, textbox_query, selector, query_answer, g = load_graph('graph,pkl')\n",
    "query_bot = load_models(parent_dir)"
   ]
  },
  {
   "cell_type": "code",
   "execution_count": 10,
   "metadata": {},
   "outputs": [],
   "source": [
    "def find_index_edges(nodes_ls):\n",
    "    edges_idx = []\n",
    "    for source in nodes_ls:\n",
    "        for target in nodes_ls:\n",
    "            filtered = df_edge[((df_edge.source == source) & (df_edge.target == target) ) | ( (df_edge.source == target) & (df_edge.target == source) )]\n",
    "            if len(filtered)!=0:\n",
    "                edges_idx.append(filtered.index.values[0])\n",
    "                \n",
    "    return edges_idx"
   ]
  },
  {
   "cell_type": "code",
   "execution_count": 11,
   "metadata": {},
   "outputs": [],
   "source": [
    "current_selector = selector.value\n",
    "\n",
    "# Choose the model\n",
    "def response(change):\n",
    "    global current_selector\n",
    "    current_selector = selector.value\n",
    "    make_query(textbox_query)\n",
    "    \n",
    "# On a new query, compute the predictions and color the nodes accordingly\n",
    "def make_query(user_query):\n",
    "    global current_selector\n",
    "    global color_node_original\n",
    "    global texts_to_show_original\n",
    "    global size_node_original\n",
    "    global color_edge_original\n",
    "    texts_to_show = texts_to_show_original.copy()\n",
    "    color_node = color_node_original.copy()\n",
    "    size_node = size_node_original.copy()\n",
    "    color_edge = color_edge_original.copy()\n",
    "    \n",
    "    query = user_query.value\n",
    "    if query != \"\":\n",
    "        preds = query_bot.make_prediction(query, current_selector)\n",
    "        #preds = {10:1,11:0.8,12:0.6,13:0.4,14:0.3}\n",
    "        if preds == None:\n",
    "            html_text = create_text([],df_node)\n",
    "            query_answer.value = html_text\n",
    "        else:\n",
    "            dict_colors = compute_color(preds)\n",
    "        \n",
    "            html_text = create_text(list(dict_colors.keys()),df_node)\n",
    "            query_answer.value = html_text\n",
    "\n",
    "            for k,v in dict_colors.items():\n",
    "                size_node[k] = 30\n",
    "                color_node[k] = v\n",
    "                texts_to_show[k] = labels[k]\n",
    "            \n",
    "            edges_idx = find_index_edges(list(preds.keys()))\n",
    "            for idx in edges_idx:\n",
    "                color_edge[3*idx] = 'rgb(255,0,0,1)'\n",
    "            \n",
    "\n",
    "        with g.batch_update():\n",
    "            g.data[1].marker.size = size_node\n",
    "            g.data[1].marker.color = color_node\n",
    "            g.data[1].text = texts_to_show\n",
    "            g.data[0].line.color = color_edge\n",
    "            \n",
    "# Open url when clicking on node\n",
    "def update_point(trace, points, selector):\n",
    "    if len(points.point_inds) != 0:\n",
    "        url = g.data[1].customdata[points.point_inds[0]]\n",
    "        webbrowser.open_new_tab(url)\n",
    "    \n",
    "textbox_query.on_submit(make_query)\n",
    "selector.observe(response, names=\"value\")\n",
    "g.data[1].on_click(update_point)\n",
    "\n",
    "with g.batch_update():\n",
    "    g.data[1].marker.color = color_node_original.copy()\n",
    "    g.data[1].marker.size = size_node_original.copy()\n",
    "    g.data[1].text = texts_to_show_original.copy()\n",
    "    g.data[0].line.color = color_edge_original.copy()\n",
    "    g.data[0].line.width = 10"
   ]
  },
  {
   "cell_type": "code",
   "execution_count": 12,
   "metadata": {},
   "outputs": [
    {
     "ename": "NameError",
     "evalue": "name 'query_bot' is not defined",
     "output_type": "error",
     "traceback": [
      "\u001b[0;31m---------------------------------------------------------------------------\u001b[0m",
      "\u001b[0;31mNameError\u001b[0m                                 Traceback (most recent call last)",
      "\u001b[0;32m<ipython-input-12-c84eca6c9490>\u001b[0m in \u001b[0;36m<module>\u001b[0;34m\u001b[0m\n\u001b[0;32m----> 1\u001b[0;31m \u001b[0mquery_bot\u001b[0m\u001b[0;34m.\u001b[0m\u001b[0mnode2vec\u001b[0m\u001b[0;34m.\u001b[0m\u001b[0mwv\u001b[0m\u001b[0;34m.\u001b[0m\u001b[0mvocab\u001b[0m\u001b[0;34m\u001b[0m\u001b[0;34m\u001b[0m\u001b[0m\n\u001b[0m",
      "\u001b[0;31mNameError\u001b[0m: name 'query_bot' is not defined"
     ]
    }
   ],
   "source": [
    "query_bot.node2vec.wv.vocab"
   ]
  },
  {
   "cell_type": "code",
   "execution_count": 12,
   "metadata": {},
   "outputs": [
    {
     "data": {
      "application/vnd.jupyter.widget-view+json": {
       "model_id": "f65625c47e2d443faeb2a6d19915fe59",
       "version_major": 2,
       "version_minor": 0
      },
      "text/plain": [
       "VBox(children=(HTML(value='<h3> Wikipedia Recommender System </h3>'), HTML(value='<h4> By clicking on a node, …"
      ]
     },
     "metadata": {},
     "output_type": "display_data"
    }
   ],
   "source": [
    "container = widgets.HBox(children=[textbox_query, selector])\n",
    "widgets.VBox([title, annotations, container, query_answer, g])"
   ]
  }
 ],
 "metadata": {
  "kernelspec": {
   "display_name": "Python 3",
   "language": "python",
   "name": "python3"
  },
  "language_info": {
   "codemirror_mode": {
    "name": "ipython",
    "version": 3
   },
   "file_extension": ".py",
   "mimetype": "text/x-python",
   "name": "python",
   "nbconvert_exporter": "python",
   "pygments_lexer": "ipython3",
   "version": "3.7.3"
  }
 },
 "nbformat": 4,
 "nbformat_minor": 4
}
