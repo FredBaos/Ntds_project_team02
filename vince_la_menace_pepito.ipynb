{
 "cells": [
  {
   "cell_type": "code",
   "execution_count": 1,
   "metadata": {},
   "outputs": [],
   "source": [
    "# Imports\n",
    "import networkx as nx\n",
    "import pandas as pd\n",
    "import numpy as np\n",
    "import random\n",
    "import wikipediaapi\n",
    "import wikipedia\n",
    "import time\n",
    "import pickle\n",
    "import re\n",
    "from sklearn.feature_extraction.text import CountVectorizer, TfidfTransformer\n",
    "from operator import itemgetter\n",
    "import matplotlib.pyplot as plt\n",
    "from gensim.models import Word2Vec\n",
    "from node2vec import Node2Vec\n",
    "from sklearn.decomposition import PCA\n",
    "from sklearn.manifold import TSNE\n",
    "import spacy\n",
    "import en_core_web_md # python -m spacy download en_core_web_md\n",
    "from config import *\n",
    "import torch\n",
    "from transformers import *\n",
    "from spectral_clustering import *\n",
    "from pymagnitude import *\n",
    "\n",
    "wiki_wiki = wikipediaapi.Wikipedia('en')"
   ]
  },
  {
   "cell_type": "markdown",
   "metadata": {},
   "source": [
    "## Loading Dataset and Graph creation"
   ]
  },
  {
   "cell_type": "code",
   "execution_count": 2,
   "metadata": {},
   "outputs": [
    {
     "data": {
      "text/html": [
       "<div>\n",
       "<style scoped>\n",
       "    .dataframe tbody tr th:only-of-type {\n",
       "        vertical-align: middle;\n",
       "    }\n",
       "\n",
       "    .dataframe tbody tr th {\n",
       "        vertical-align: top;\n",
       "    }\n",
       "\n",
       "    .dataframe thead th {\n",
       "        text-align: right;\n",
       "    }\n",
       "</style>\n",
       "<table border=\"1\" class=\"dataframe\">\n",
       "  <thead>\n",
       "    <tr style=\"text-align: right;\">\n",
       "      <th></th>\n",
       "      <th>source</th>\n",
       "      <th>target</th>\n",
       "      <th>depth</th>\n",
       "    </tr>\n",
       "  </thead>\n",
       "  <tbody>\n",
       "    <tr>\n",
       "      <td>0</td>\n",
       "      <td>intelligent agent</td>\n",
       "      <td>software agent</td>\n",
       "      <td>1</td>\n",
       "    </tr>\n",
       "    <tr>\n",
       "      <td>1</td>\n",
       "      <td>intelligent agent</td>\n",
       "      <td>cognitive architecture</td>\n",
       "      <td>1</td>\n",
       "    </tr>\n",
       "    <tr>\n",
       "      <td>2</td>\n",
       "      <td>intelligent agent</td>\n",
       "      <td>cognitive radio</td>\n",
       "      <td>1</td>\n",
       "    </tr>\n",
       "    <tr>\n",
       "      <td>3</td>\n",
       "      <td>intelligent agent</td>\n",
       "      <td>cybernetics</td>\n",
       "      <td>1</td>\n",
       "    </tr>\n",
       "    <tr>\n",
       "      <td>4</td>\n",
       "      <td>intelligent agent</td>\n",
       "      <td>computer science</td>\n",
       "      <td>1</td>\n",
       "    </tr>\n",
       "  </tbody>\n",
       "</table>\n",
       "</div>"
      ],
      "text/plain": [
       "              source                  target  depth\n",
       "0  intelligent agent          software agent      1\n",
       "1  intelligent agent  cognitive architecture      1\n",
       "2  intelligent agent         cognitive radio      1\n",
       "3  intelligent agent             cybernetics      1\n",
       "4  intelligent agent        computer science      1"
      ]
     },
     "execution_count": 2,
     "metadata": {},
     "output_type": "execute_result"
    }
   ],
   "source": [
    "# Loading data\n",
    "edge_list = pd.read_csv(\"ml-nlp-ai-ann-chatbot-ia-dataviz-dist2.tsv\", sep = \"\\t\")\n",
    "edge_list.head()"
   ]
  },
  {
   "cell_type": "code",
   "execution_count": 3,
   "metadata": {},
   "outputs": [
    {
     "name": "stdout",
     "output_type": "stream",
     "text": [
      "Number of nodes:  1166\n"
     ]
    }
   ],
   "source": [
    "# Building graph\n",
    "graph = nx.from_pandas_edgelist(edge_list, \"source\", \"target\", edge_attr=True)\n",
    "print(\"Number of nodes: \", len(graph))"
   ]
  },
  {
   "cell_type": "markdown",
   "metadata": {},
   "source": [
    "## Creation of dataframes containing nodes and edges information"
   ]
  },
  {
   "cell_type": "markdown",
   "metadata": {},
   "source": [
    "First, we create the node dataframe by filling the 'url' and 'keywords' columns."
   ]
  },
  {
   "cell_type": "code",
   "execution_count": 4,
   "metadata": {},
   "outputs": [],
   "source": [
    "df_node = pd.DataFrame(columns=['name','url', 'keywords'])\n",
    "df_node['name'] = pd.unique(edge_list.source.append(edge_list.target))"
   ]
  },
  {
   "cell_type": "code",
   "execution_count": 5,
   "metadata": {},
   "outputs": [],
   "source": [
    "def get_url(node):\n",
    "    \"Robust to spelling and lower case/upper case errors\"\n",
    "    try:\n",
    "        return wikipedia.page(node).url\n",
    "    except wikipedia.DisambiguationError as e:\n",
    "        s = random.choice(e.options)\n",
    "        return \"https://en.wikipedia.org/wiki/\" + s.replace(\" \", \"_\")\n",
    "    except:\n",
    "        return \"https://en.wikipedia.org/wiki/\" + node.replace(\" \", \"_\")"
   ]
  },
  {
   "cell_type": "code",
   "execution_count": 6,
   "metadata": {
    "scrolled": true
   },
   "outputs": [],
   "source": [
    "# takes a long time to run, load a pickle by default\n",
    "is_saved = True\n",
    "\n",
    "if not is_saved:\n",
    "    urls = []\n",
    "    for name in df_node.name:\n",
    "        urls.append(get_url(name))\n",
    "    with open('urls.pickle', 'wb') as handle:\n",
    "        pickle.dump(urls, handle)\n",
    "        \n",
    "else:\n",
    "    with open('urls.pickle', 'rb') as handle:\n",
    "        urls = pickle.load(handle)  "
   ]
  },
  {
   "cell_type": "code",
   "execution_count": 7,
   "metadata": {},
   "outputs": [],
   "source": [
    "df_node['url'] = urls"
   ]
  },
  {
   "cell_type": "markdown",
   "metadata": {},
   "source": [
    "Then, we create lists of keywords for each page by doing TF-IDF on pages summaries."
   ]
  },
  {
   "cell_type": "code",
   "execution_count": 8,
   "metadata": {},
   "outputs": [],
   "source": [
    "def get_summary(node, num_chars=1000):\n",
    "    \"Robust to spelling and lower case/upper case errors\"\n",
    "    try:\n",
    "        return wikipedia.summary(node, chars=num_chars)[:num_chars] # summary may not return exactly num_chars\n",
    "    except wikipedia.DisambiguationError as e:\n",
    "        print(e.options)\n",
    "        s = random.choice(e.options)\n",
    "        # handling special cases for our dataset (some options do not have any associated pages)\n",
    "        if \"Mark\" in e.options[0]:\n",
    "            s = e.options[0]\n",
    "        elif \"visit\" in e.options[0] or \"Transcript\" in e.options[0]:\n",
    "            s = e.options[1]\n",
    "        elif \"Jim\" in e.options[0]:\n",
    "            s = e.options[2]\n",
    "        print(s)\n",
    "        return wikipedia.summary(s, chars=num_chars)[:num_chars]\n",
    "    except:\n",
    "        return ''"
   ]
  },
  {
   "cell_type": "code",
   "execution_count": 9,
   "metadata": {},
   "outputs": [],
   "source": [
    "def pre_process(text):\n",
    "    text=text.lower()\n",
    "    text=re.sub(\"</?.*?>\",\" <> \",text)\n",
    "    text=re.sub(\"(\\\\d|\\\\W)+\",\" \",text)\n",
    "    return text\n",
    "\n",
    "def get_stop_words(stop_file_path):\n",
    "    \"\"\"load stop words \"\"\"\n",
    "    with open(stop_file_path, 'r', encoding=\"utf-8\") as f:\n",
    "        stopwords = f.readlines()\n",
    "        stop_set = set(m.strip() for m in stopwords)\n",
    "        return frozenset(stop_set)"
   ]
  },
  {
   "cell_type": "code",
   "execution_count": 10,
   "metadata": {},
   "outputs": [],
   "source": [
    "def sort_coo(coo_matrix):\n",
    "    tuples = zip(coo_matrix.col, coo_matrix.data)\n",
    "    return sorted(tuples, key=lambda x: (x[1], x[0]), reverse=True)\n",
    "\n",
    "def extract_topn_from_vector(feature_names, sorted_items, topn=10):\n",
    "    \"\"\"get the feature names and tf-idf score of top n items\"\"\"\n",
    "    \n",
    "    sorted_items = sorted_items[:topn]\n",
    "\n",
    "    score_vals = []\n",
    "    feature_vals = []\n",
    "\n",
    "    for idx, score in sorted_items:\n",
    "        fname = feature_names[idx]\n",
    "        score_vals.append(round(score, 3))\n",
    "        feature_vals.append(feature_names[idx])\n",
    "\n",
    "    results= {}\n",
    "    for idx in range(len(feature_vals)):\n",
    "        results[feature_vals[idx]]=score_vals[idx]\n",
    "    \n",
    "    return results\n",
    "\n",
    "def get_keywords(idx):\n",
    "    \n",
    "    #generate tf-idf for the given document\n",
    "    tf_idf_vector=tfidf_transformer.transform(cv.transform([docs[idx]]))\n",
    "    #sort the tf-idf vectors by descending order of scores\n",
    "    sorted_items=sort_coo(tf_idf_vector.tocoo())\n",
    "    \n",
    "    #we only need to do it once\n",
    "    feature_names=cv.get_feature_names()\n",
    "    #extract only the top n; n here is 10\n",
    "    keywords=extract_topn_from_vector(feature_names,sorted_items,10)\n",
    "    \n",
    "    return keywords"
   ]
  },
  {
   "cell_type": "code",
   "execution_count": 11,
   "metadata": {
    "scrolled": true
   },
   "outputs": [],
   "source": [
    "# takes a long time to run, summaries are saved in a pickle by default\n",
    "is_saved = True\n",
    "\n",
    "if not is_saved:\n",
    "    counter = 0\n",
    "    docs = []\n",
    "    \n",
    "    for name in df_node['name']:\n",
    "        print(counter)\n",
    "        counter += 1\n",
    "        docs.append(pre_process(get_summary(name)))\n",
    "\n",
    "    with open('summaries.pickle', 'wb') as handle:\n",
    "        pickle.dump(docs, handle)\n",
    "        \n",
    "else:\n",
    "    with open('summaries.pickle', 'rb') as handle:\n",
    "        docs = pickle.load(handle)"
   ]
  },
  {
   "cell_type": "code",
   "execution_count": 12,
   "metadata": {},
   "outputs": [],
   "source": [
    "stopwords = get_stop_words(\"stopwords.txt\")\n",
    "cv = CountVectorizer(max_df=0.85,stop_words=stopwords)\n",
    "word_count_vector = cv.fit_transform(docs)"
   ]
  },
  {
   "cell_type": "code",
   "execution_count": 13,
   "metadata": {},
   "outputs": [
    {
     "data": {
      "text/plain": [
       "TfidfTransformer(norm='l2', smooth_idf=True, sublinear_tf=False, use_idf=True)"
      ]
     },
     "execution_count": 13,
     "metadata": {},
     "output_type": "execute_result"
    }
   ],
   "source": [
    "# TF-IDF transformer\n",
    "tfidf_transformer = TfidfTransformer(smooth_idf=True,use_idf=True)\n",
    "tfidf_transformer.fit(word_count_vector)"
   ]
  },
  {
   "cell_type": "code",
   "execution_count": 14,
   "metadata": {},
   "outputs": [],
   "source": [
    "# adding keywords to df_node\n",
    "df_node['keywords'] = [list(get_keywords(idx).keys()) for idx in range(len(df_node))]"
   ]
  },
  {
   "cell_type": "code",
   "execution_count": 15,
   "metadata": {},
   "outputs": [
    {
     "data": {
      "text/html": [
       "<div>\n",
       "<style scoped>\n",
       "    .dataframe tbody tr th:only-of-type {\n",
       "        vertical-align: middle;\n",
       "    }\n",
       "\n",
       "    .dataframe tbody tr th {\n",
       "        vertical-align: top;\n",
       "    }\n",
       "\n",
       "    .dataframe thead th {\n",
       "        text-align: right;\n",
       "    }\n",
       "</style>\n",
       "<table border=\"1\" class=\"dataframe\">\n",
       "  <thead>\n",
       "    <tr style=\"text-align: right;\">\n",
       "      <th></th>\n",
       "      <th>name</th>\n",
       "      <th>url</th>\n",
       "      <th>keywords</th>\n",
       "    </tr>\n",
       "  </thead>\n",
       "  <tbody>\n",
       "    <tr>\n",
       "      <td>0</td>\n",
       "      <td>intelligent agent</td>\n",
       "      <td>https://en.wikipedia.org/wiki/Intelligent_agent</td>\n",
       "      <td>[intelligent, agents, agent, autonomous, abstr...</td>\n",
       "    </tr>\n",
       "    <tr>\n",
       "      <td>1</td>\n",
       "      <td>chatbot</td>\n",
       "      <td>https://en.wikipedia.org/wiki/Chatbot</td>\n",
       "      <td>[chatbots, apps, keywords, conversational, pro...</td>\n",
       "    </tr>\n",
       "    <tr>\n",
       "      <td>2</td>\n",
       "      <td>artificial neural network</td>\n",
       "      <td>https://en.wikipedia.org/wiki/Artificial_neura...</td>\n",
       "      <td>[cats, cat, neurons, images, biological, ann, ...</td>\n",
       "    </tr>\n",
       "    <tr>\n",
       "      <td>3</td>\n",
       "      <td>artificial intelligence</td>\n",
       "      <td>https://en.wikipedia.org/wiki/Artificial_intel...</td>\n",
       "      <td>[ai, intelligence, machines, humans, considere...</td>\n",
       "    </tr>\n",
       "    <tr>\n",
       "      <td>4</td>\n",
       "      <td>weak ai</td>\n",
       "      <td>https://en.wikipedia.org/wiki/Weak_AI</td>\n",
       "      <td>[ai, narrow, weak, minds, intelligence, proble...</td>\n",
       "    </tr>\n",
       "  </tbody>\n",
       "</table>\n",
       "</div>"
      ],
      "text/plain": [
       "                        name  \\\n",
       "0          intelligent agent   \n",
       "1                    chatbot   \n",
       "2  artificial neural network   \n",
       "3    artificial intelligence   \n",
       "4                    weak ai   \n",
       "\n",
       "                                                 url  \\\n",
       "0    https://en.wikipedia.org/wiki/Intelligent_agent   \n",
       "1              https://en.wikipedia.org/wiki/Chatbot   \n",
       "2  https://en.wikipedia.org/wiki/Artificial_neura...   \n",
       "3  https://en.wikipedia.org/wiki/Artificial_intel...   \n",
       "4              https://en.wikipedia.org/wiki/Weak_AI   \n",
       "\n",
       "                                            keywords  \n",
       "0  [intelligent, agents, agent, autonomous, abstr...  \n",
       "1  [chatbots, apps, keywords, conversational, pro...  \n",
       "2  [cats, cat, neurons, images, biological, ann, ...  \n",
       "3  [ai, intelligence, machines, humans, considere...  \n",
       "4  [ai, narrow, weak, minds, intelligence, proble...  "
      ]
     },
     "execution_count": 15,
     "metadata": {},
     "output_type": "execute_result"
    }
   ],
   "source": [
    "df_node.head()"
   ]
  },
  {
   "cell_type": "code",
   "execution_count": 16,
   "metadata": {},
   "outputs": [],
   "source": [
    "df_node.to_csv(DF_NODE_FILENAME)"
   ]
  },
  {
   "cell_type": "markdown",
   "metadata": {},
   "source": [
    "Then, we create the edge dataframe, containing links between nodes."
   ]
  },
  {
   "cell_type": "code",
   "execution_count": 17,
   "metadata": {},
   "outputs": [],
   "source": [
    "df_edge = pd.DataFrame(columns=['source','target'])\n",
    "df_edge['source'] = [df_node[df_node.name==name].index.values[0] for name in edge_list.source]\n",
    "df_edge['target'] = [df_node[df_node.name==name].index.values[0] for name in edge_list.target]\n",
    "df_edge.to_csv(DF_EDGE_FILENAME)"
   ]
  },
  {
   "cell_type": "code",
   "execution_count": 18,
   "metadata": {},
   "outputs": [
    {
     "data": {
      "text/html": [
       "<div>\n",
       "<style scoped>\n",
       "    .dataframe tbody tr th:only-of-type {\n",
       "        vertical-align: middle;\n",
       "    }\n",
       "\n",
       "    .dataframe tbody tr th {\n",
       "        vertical-align: top;\n",
       "    }\n",
       "\n",
       "    .dataframe thead th {\n",
       "        text-align: right;\n",
       "    }\n",
       "</style>\n",
       "<table border=\"1\" class=\"dataframe\">\n",
       "  <thead>\n",
       "    <tr style=\"text-align: right;\">\n",
       "      <th></th>\n",
       "      <th>source</th>\n",
       "      <th>target</th>\n",
       "    </tr>\n",
       "  </thead>\n",
       "  <tbody>\n",
       "    <tr>\n",
       "      <td>0</td>\n",
       "      <td>0</td>\n",
       "      <td>95</td>\n",
       "    </tr>\n",
       "    <tr>\n",
       "      <td>1</td>\n",
       "      <td>0</td>\n",
       "      <td>69</td>\n",
       "    </tr>\n",
       "    <tr>\n",
       "      <td>2</td>\n",
       "      <td>0</td>\n",
       "      <td>103</td>\n",
       "    </tr>\n",
       "    <tr>\n",
       "      <td>3</td>\n",
       "      <td>0</td>\n",
       "      <td>94</td>\n",
       "    </tr>\n",
       "    <tr>\n",
       "      <td>4</td>\n",
       "      <td>0</td>\n",
       "      <td>99</td>\n",
       "    </tr>\n",
       "  </tbody>\n",
       "</table>\n",
       "</div>"
      ],
      "text/plain": [
       "   source  target\n",
       "0       0      95\n",
       "1       0      69\n",
       "2       0     103\n",
       "3       0      94\n",
       "4       0      99"
      ]
     },
     "execution_count": 18,
     "metadata": {},
     "output_type": "execute_result"
    }
   ],
   "source": [
    "df_edge.head()"
   ]
  },
  {
   "cell_type": "markdown",
   "metadata": {},
   "source": [
    "# Node to vector representations\n",
    "\n",
    "Algorithms:\n",
    "- Node2Vec\n",
    "\n",
    "Nodes appearing in the same context will have similar embeddings. The context is defined as sequences of nodes built by random walks.\n",
    "\n",
    "Why not just recommend neighboring nodes instead of bothering with embeddings ? The connectedness of the nodes in a graph does not necessarily mean that they are semantically similar. Besides embeddings allow us to do linear algebra on the representations. This is especially useful for queries with multiple keywords."
   ]
  },
  {
   "cell_type": "code",
   "execution_count": 19,
   "metadata": {},
   "outputs": [],
   "source": [
    "node2vec = Node2Vec(graph, walk_length=10, num_walks=5, quiet=True)\n",
    "node2vec_model = node2vec.fit(window=5, size=100, min_count=5, sg=1, hs=0, negative=10, iter=20)"
   ]
  },
  {
   "cell_type": "code",
   "execution_count": 20,
   "metadata": {},
   "outputs": [],
   "source": [
    "def query_answers_node2vec(query,model,topn=10):\n",
    "    model = model[0]\n",
    "    return model.wv.similar_by_word(query,topn=topn)"
   ]
  },
  {
   "cell_type": "code",
   "execution_count": 21,
   "metadata": {},
   "outputs": [
    {
     "data": {
      "text/plain": [
       "[('a.i. rising', 0.8022040128707886),\n",
       " ('personality computing', 0.795610785484314),\n",
       " ('soft computing', 0.7942807078361511),\n",
       " ('robotic process automation', 0.7667010426521301),\n",
       " ('glossary of artificial intelligence', 0.738107442855835),\n",
       " ('glossary of machine vision', 0.697543740272522),\n",
       " ('business process automation', 0.6799776554107666),\n",
       " ('mathematical optimization', 0.6639233827590942),\n",
       " ('reinventing discovery', 0.6561944484710693),\n",
       " ('citizen science', 0.6522955298423767)]"
      ]
     },
     "execution_count": 21,
     "metadata": {},
     "output_type": "execute_result"
    }
   ],
   "source": [
    "query_answers_node2vec('artificial intelligence',[node2vec_model])"
   ]
  },
  {
   "cell_type": "code",
   "execution_count": 22,
   "metadata": {},
   "outputs": [],
   "source": [
    "nodes_to_plot = ['machine learning', 'machine learning in bioinformatics', 'one-shot learning',\n",
    "                 'hyperparameter optimization', 'system identification', 'model selection',\n",
    "                 'self-tuning', 'artificial intelligence', 'artificial neural network',\n",
    "                 'artificial neural network', 'intelligent agent', 'data visualization']"
   ]
  },
  {
   "cell_type": "code",
   "execution_count": 23,
   "metadata": {},
   "outputs": [],
   "source": [
    "def plot_projection(model, nodes, dim=2, projection_method=PCA):\n",
    "    \"\"\"Plot the projection of embeddings after applying a dimensionality reduction method.\"\"\"\n",
    "    node_vectors = model.wv[nodes]\n",
    "    projection = projection_method(n_components=dim)\n",
    "    projections = projection.fit_transform(node_vectors)\n",
    "    \n",
    "    plt.figure(figsize=(10,7))\n",
    "    plt.scatter(projections[:,0], projections[:,1])\n",
    "    for i, node in enumerate(nodes):\n",
    "        plt.annotate(node, xy=(projections[i,0], projections[i,1]))\n",
    "    plt.title(\"{} over first {} components\".format(type(projection).__name__, dim))\n",
    "    plt.show()"
   ]
  },
  {
   "cell_type": "code",
   "execution_count": 24,
   "metadata": {},
   "outputs": [
    {
     "data": {
      "image/png": "[encoded data removed]",
      "text/plain": [
       "<Figure size 720x504 with 1 Axes>"
      ]
     },
     "metadata": {
      "needs_background": "light"
     },
     "output_type": "display_data"
    }
   ],
   "source": [
    "plot_projection(node2vec_model, nodes_to_plot)"
   ]
  },
  {
   "cell_type": "code",
   "execution_count": 25,
   "metadata": {},
   "outputs": [],
   "source": [
    "node2vec_model.save(NODE2VEC_FILENAME)"
   ]
  },
  {
   "cell_type": "markdown",
   "metadata": {},
   "source": [
    "## Spectral clustering on hyperlink graph"
   ]
  },
  {
   "cell_type": "code",
   "execution_count": 26,
   "metadata": {},
   "outputs": [],
   "source": [
    "A = nx.adjacency_matrix(graph)\n",
    "proj = laplacian_eigenmaps(A,dim=100,sigma=None,epsilon=None,normalize=None,use_similarity=False)"
   ]
  },
  {
   "cell_type": "code",
   "execution_count": 27,
   "metadata": {},
   "outputs": [],
   "source": [
    "from sklearn.metrics.pairwise import cosine_similarity as cosine\n",
    "\n",
    "def compute_similarities_matrix(vector, proj, topk):\n",
    "    similarities = cosine(vector,proj).reshape(-1)\n",
    "    top_k_indexes = list(np.argsort(similarities)[-topk:])\n",
    "    top_k_similarities = similarities[top_k_indexes]\n",
    "    return dict(zip(top_k_indexes, top_k_similarities))"
   ]
  },
  {
   "cell_type": "code",
   "execution_count": 28,
   "metadata": {},
   "outputs": [],
   "source": [
    "def query_answers_spectral(query,model,topn=10):\n",
    "    matrix = model[0]\n",
    "    idx = df_node[df_node.name==query].index.values[0]\n",
    "    vector = proj[idx]\n",
    "    results = compute_similarities_matrix(vector, matrix, topn)\n",
    "\n",
    "    similarities = {}\n",
    "    for idx,v in results.items():\n",
    "        name = df_node[df_node.index==idx].name.values[0]\n",
    "        similarities[name] = v\n",
    "\n",
    "    similarities = dict(sorted(similarities.items(), key = itemgetter(1), reverse = True))\n",
    "    return similarities"
   ]
  },
  {
   "cell_type": "code",
   "execution_count": 29,
   "metadata": {},
   "outputs": [
    {
     "data": {
      "text/plain": [
       "{'artificial intelligence': 1.0000000000000004,\n",
       " 'channel allocation schemes': 0.9896024874174811,\n",
       " 'cognitive network': 0.989602487417481,\n",
       " 'channel-dependent scheduling': 0.9896024874174804,\n",
       " 'white spaces (radio)': 0.9896024874174791,\n",
       " 'software-defined radio': 0.9896024874174785,\n",
       " 'lte advanced': 0.9896024874174782,\n",
       " 'radio resource management': 0.9896024874174781,\n",
       " 'tv white space database': 0.989602487417478,\n",
       " 'ofdma': 0.9896024874174771}"
      ]
     },
     "execution_count": 29,
     "metadata": {},
     "output_type": "execute_result"
    }
   ],
   "source": [
    "query_answers_spectral('artificial intelligence',[proj])"
   ]
  },
  {
   "cell_type": "code",
   "execution_count": 30,
   "metadata": {},
   "outputs": [],
   "source": [
    "np.save(\"spectral.npy\",proj)"
   ]
  },
  {
   "cell_type": "markdown",
   "metadata": {},
   "source": [
    "# Combining Node attributes and graph structure\n",
    "\n",
    "- Obtain representations of keywords extracted from summaries as fasttext or bert embeddings\n",
    "- Perform walks and average embeddings\n",
    "\n",
    "## Scalability limitations\n",
    "\n",
    "- We would need a lot of computational resources for parsing the text and learning word embeddings from all these summaries. However one can use pre-trained embeddings to fix this issue."
   ]
  },
  {
   "cell_type": "code",
   "execution_count": 31,
   "metadata": {},
   "outputs": [],
   "source": [
    "# Load pretrained fasttext model\n",
    "vectors = Magnitude(\"wiki-news-300d-1M-subword.magnitude\")\n",
    "walks = node2vec.walks"
   ]
  },
  {
   "cell_type": "code",
   "execution_count": 32,
   "metadata": {},
   "outputs": [],
   "source": [
    "def fastt_embedding(text):\n",
    "    \"Encode text using Fasttext model.\"\n",
    "    return vectors.query(text.split()).mean(axis=0)"
   ]
  },
  {
   "cell_type": "code",
   "execution_count": 33,
   "metadata": {},
   "outputs": [],
   "source": [
    "def get_weighted_walk_of_embeddings(walk, embeddings_dict, source_weight=0.75):\n",
    "    \"Given a source embedding and a walk of embeddings, returns the weighted average of embeddings.\"\n",
    "    walk_weight = (1-source_weight)/(len(walk)-1)\n",
    "    embeddings = [embeddings_dict[node] for node in walk]\n",
    "    return source_weight*embeddings[0] + walk_weight*sum(embeddings[1:])"
   ]
  },
  {
   "cell_type": "code",
   "execution_count": 34,
   "metadata": {},
   "outputs": [],
   "source": [
    "def walk_averaged_embeddings_dict(embeddings_dict, walks, source_weight=0.75):\n",
    "    walk_embeddings_dict = {k:[] for k in embeddings_dict.keys()}\n",
    "\n",
    "    for walk in walks:\n",
    "        walk_embeddings_dict[walk[0]].append(get_weighted_walk_of_embeddings(walk, embeddings_dict, source_weight))\n",
    "\n",
    "    walk_averaged_embeddings_dict = {k:sum(v)/len(v) for k, v in walk_embeddings_dict.items()}\n",
    "    return walk_averaged_embeddings_dict"
   ]
  },
  {
   "cell_type": "code",
   "execution_count": 35,
   "metadata": {},
   "outputs": [],
   "source": [
    "def compute_similarities(vector, corpus, top_n=10):\n",
    "    \"\"\"Given an embedding and a corpus, returns the closest k embeddings.\"\"\"\n",
    "    similarities = {k:(cosine(vector.reshape(1,-1), v.reshape(1,-1)))[0,0] for k, v in corpus.items()}\n",
    "    similarities = dict(sorted(similarities.items(), key = itemgetter(1), reverse = True)[:top_n])\n",
    "    return similarities"
   ]
  },
  {
   "cell_type": "code",
   "execution_count": 36,
   "metadata": {},
   "outputs": [],
   "source": [
    "mean_embeddings_fastt = [fastt_embedding(title + ' ' + ' '.join(words_ls)) for words_ls, title in zip(df_node['keywords'], df_node['name'])]\n",
    "embeddings_dict_fastt = dict(zip(list(graph.nodes()), mean_embeddings_fastt))\n",
    "walk_averaged_embeddings_dict_fastt = walk_averaged_embeddings_dict(embeddings_dict_fastt, walks, source_weight=0.75)"
   ]
  },
  {
   "cell_type": "code",
   "execution_count": 40,
   "metadata": {},
   "outputs": [],
   "source": [
    "def query_answers_fasttext(query,model,topn=10):\n",
    "    vectors = model[0]\n",
    "    walk_averaged_embeddings_dict_fastt = model[1]\n",
    "    embedding = vectors.query(query.split()).mean(axis=0)\n",
    "    return compute_similarities(embedding, walk_averaged_embeddings_dict_fastt)"
   ]
  },
  {
   "cell_type": "code",
   "execution_count": 41,
   "metadata": {},
   "outputs": [
    {
     "data": {
      "text/plain": [
       "{'peas': 0.8305394,\n",
       " 'human-based genetic algorithm': 0.8242696,\n",
       " 'cost overrun': 0.82220954,\n",
       " 'home network': 0.81181985,\n",
       " 'program synthesis': 0.810921,\n",
       " 'neural network': 0.8069041,\n",
       " 'warming stripes': 0.8044405,\n",
       " 'openworm': 0.8018235,\n",
       " 'unified theory of cognition': 0.7979174,\n",
       " 'cognitive radio': 0.7961704}"
      ]
     },
     "execution_count": 41,
     "metadata": {},
     "output_type": "execute_result"
    }
   ],
   "source": [
    "query_answers_fasttext('artificial intelligence',[vectors,walk_averaged_embeddings_dict_fastt])"
   ]
  },
  {
   "cell_type": "code",
   "execution_count": 39,
   "metadata": {},
   "outputs": [],
   "source": [
    "with open(FAST_MEAN_FILENAME,'wb') as f:\n",
    "    pickle.dump(walk_averaged_embeddings_dict_fastt,f)"
   ]
  },
  {
   "cell_type": "code",
   "execution_count": 73,
   "metadata": {},
   "outputs": [],
   "source": [
    "# # Load pretrained bert model/tokenizer\n",
    "# tokenizer = BertTokenizer.from_pretrained('bert-base-uncased')\n",
    "# model = BertModel.from_pretrained('bert-base-uncased')\n",
    "\n",
    "# walks = node2vec.walks"
   ]
  },
  {
   "cell_type": "code",
   "execution_count": 75,
   "metadata": {},
   "outputs": [],
   "source": [
    "# def bert_embedding(text):\n",
    "#     \"Encode text using Bert model.\"\n",
    "#     input_ids = torch.tensor([tokenizer.encode(text, add_special_tokens=True)])  # Add special tokens takes care of adding [CLS], [SEP], <s>... tokens in the right way for each model.\n",
    "#     with torch.no_grad():\n",
    "#         last_hidden_states = model(input_ids)[0]  # Models outputs are now tuples\n",
    "#         last_hidden_states = last_hidden_states.squeeze().mean(dim=0)\n",
    "#     return last_hidden_states.numpy()"
   ]
  },
  {
   "cell_type": "code",
   "execution_count": 79,
   "metadata": {},
   "outputs": [],
   "source": [
    "# mean_embeddings_bert = [bert_embedding(title + ' ' + ' '.join(words_ls)) for words_ls, title in zip(df_node['keywords'],df_node['name'])]\n",
    "# embeddings_dict_bert = dict(zip(list(graph.nodes()), mean_embeddings_bert))"
   ]
  },
  {
   "cell_type": "code",
   "execution_count": 80,
   "metadata": {},
   "outputs": [],
   "source": [
    "# walk_averaged_embeddings_dict_bert = walk_averaged_embeddings_dict(embeddings_dict_bert, walks, source_weight=0.75)"
   ]
  },
  {
   "cell_type": "code",
   "execution_count": 81,
   "metadata": {},
   "outputs": [
    {
     "data": {
      "text/plain": [
       "{'online analytical processing': 0.6406931281089783,\n",
       " 'openworm': 0.6313850283622742,\n",
       " 'pattern recognition': 0.6223430633544922,\n",
       " 'program synthesis': 0.6193525195121765,\n",
       " 'wayfinding': 0.61463463306427,\n",
       " 'human-based genetic algorithm': 0.6114992499351501,\n",
       " 'home network': 0.6100200414657593,\n",
       " 'analytic applications': 0.6030278205871582,\n",
       " 'warming stripes': 0.6027599573135376,\n",
       " 'cost overrun': 0.6023503541946411}"
      ]
     },
     "execution_count": 81,
     "metadata": {},
     "output_type": "execute_result"
    }
   ],
   "source": [
    "# compute_similarities(bert_embedding('artificial intelligence'), walk_averaged_embeddings_dict_bert)"
   ]
  }
 ],
 "metadata": {
  "kernelspec": {
   "display_name": "Python 3",
   "language": "python",
   "name": "python3"
  },
  "language_info": {
   "codemirror_mode": {
    "name": "ipython",
    "version": 3
   },
   "file_extension": ".py",
   "mimetype": "text/x-python",
   "name": "python",
   "nbconvert_exporter": "python",
   "pygments_lexer": "ipython3",
   "version": "3.6.8"
  }
 },
 "nbformat": 4,
 "nbformat_minor": 2
}
