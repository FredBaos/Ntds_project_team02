{
 "cells": [
  {
   "cell_type": "code",
   "execution_count": null,
   "metadata": {},
   "outputs": [],
   "source": [
    "#pip3 install notebook ipywidgets plotly\n",
    "#jupyter nbextension enable --py widgetsnbextension\n",
    "#jupyter nbextension enable --py plotlywidget"
   ]
  },
  {
   "cell_type": "code",
   "execution_count": 1,
   "metadata": {},
   "outputs": [],
   "source": [
    "import igraph as ig\n",
    "import pandas as pd\n",
    "import webbrowser\n",
    "import json\n",
    "import urllib.request\n",
    "import chart_studio.plotly as py\n",
    "import plotly.graph_objs as go\n",
    "from ipywidgets import widgets"
   ]
  },
  {
   "cell_type": "code",
   "execution_count": 2,
   "metadata": {},
   "outputs": [],
   "source": [
    "#Load some data\n",
    "data = []\n",
    "req = urllib.request.Request(\"https://raw.githubusercontent.com/plotly/datasets/master/miserables.json\")\n",
    "opener = urllib.request.build_opener()\n",
    "f = opener.open(req)\n",
    "data = json.loads(f.read())"
   ]
  },
  {
   "cell_type": "code",
   "execution_count": 3,
   "metadata": {},
   "outputs": [],
   "source": [
    "N = len(data['nodes'])\n",
    "df_node = pd.DataFrame(data['nodes'])\n",
    "df_node.drop(columns=['group'],axis=1,inplace=True)\n",
    "df_node['url'] = 'https://fr.wikipedia.org/wiki/In_Deep'\n",
    "df_edge = pd.DataFrame(data['links'])\n",
    "df_edge.drop(columns=['value'],axis=1,inplace=True)"
   ]
  },
  {
   "cell_type": "code",
   "execution_count": 4,
   "metadata": {},
   "outputs": [
    {
     "data": {
      "text/html": [
       "<div>\n",
       "<style scoped>\n",
       "    .dataframe tbody tr th:only-of-type {\n",
       "        vertical-align: middle;\n",
       "    }\n",
       "\n",
       "    .dataframe tbody tr th {\n",
       "        vertical-align: top;\n",
       "    }\n",
       "\n",
       "    .dataframe thead th {\n",
       "        text-align: right;\n",
       "    }\n",
       "</style>\n",
       "<table border=\"1\" class=\"dataframe\">\n",
       "  <thead>\n",
       "    <tr style=\"text-align: right;\">\n",
       "      <th></th>\n",
       "      <th>name</th>\n",
       "      <th>url</th>\n",
       "    </tr>\n",
       "  </thead>\n",
       "  <tbody>\n",
       "    <tr>\n",
       "      <td>0</td>\n",
       "      <td>Myriel</td>\n",
       "      <td>https://fr.wikipedia.org/wiki/In_Deep</td>\n",
       "    </tr>\n",
       "    <tr>\n",
       "      <td>1</td>\n",
       "      <td>Napoleon</td>\n",
       "      <td>https://fr.wikipedia.org/wiki/In_Deep</td>\n",
       "    </tr>\n",
       "    <tr>\n",
       "      <td>2</td>\n",
       "      <td>Mlle.Baptistine</td>\n",
       "      <td>https://fr.wikipedia.org/wiki/In_Deep</td>\n",
       "    </tr>\n",
       "    <tr>\n",
       "      <td>3</td>\n",
       "      <td>Mme.Magloire</td>\n",
       "      <td>https://fr.wikipedia.org/wiki/In_Deep</td>\n",
       "    </tr>\n",
       "    <tr>\n",
       "      <td>4</td>\n",
       "      <td>CountessdeLo</td>\n",
       "      <td>https://fr.wikipedia.org/wiki/In_Deep</td>\n",
       "    </tr>\n",
       "  </tbody>\n",
       "</table>\n",
       "</div>"
      ],
      "text/plain": [
       "              name                                    url\n",
       "0           Myriel  https://fr.wikipedia.org/wiki/In_Deep\n",
       "1         Napoleon  https://fr.wikipedia.org/wiki/In_Deep\n",
       "2  Mlle.Baptistine  https://fr.wikipedia.org/wiki/In_Deep\n",
       "3     Mme.Magloire  https://fr.wikipedia.org/wiki/In_Deep\n",
       "4     CountessdeLo  https://fr.wikipedia.org/wiki/In_Deep"
      ]
     },
     "execution_count": 4,
     "metadata": {},
     "output_type": "execute_result"
    }
   ],
   "source": [
    "df_node.head()"
   ]
  },
  {
   "cell_type": "code",
   "execution_count": 5,
   "metadata": {},
   "outputs": [
    {
     "data": {
      "text/html": [
       "<div>\n",
       "<style scoped>\n",
       "    .dataframe tbody tr th:only-of-type {\n",
       "        vertical-align: middle;\n",
       "    }\n",
       "\n",
       "    .dataframe tbody tr th {\n",
       "        vertical-align: top;\n",
       "    }\n",
       "\n",
       "    .dataframe thead th {\n",
       "        text-align: right;\n",
       "    }\n",
       "</style>\n",
       "<table border=\"1\" class=\"dataframe\">\n",
       "  <thead>\n",
       "    <tr style=\"text-align: right;\">\n",
       "      <th></th>\n",
       "      <th>source</th>\n",
       "      <th>target</th>\n",
       "    </tr>\n",
       "  </thead>\n",
       "  <tbody>\n",
       "    <tr>\n",
       "      <td>0</td>\n",
       "      <td>1</td>\n",
       "      <td>0</td>\n",
       "    </tr>\n",
       "    <tr>\n",
       "      <td>1</td>\n",
       "      <td>2</td>\n",
       "      <td>0</td>\n",
       "    </tr>\n",
       "    <tr>\n",
       "      <td>2</td>\n",
       "      <td>3</td>\n",
       "      <td>0</td>\n",
       "    </tr>\n",
       "    <tr>\n",
       "      <td>3</td>\n",
       "      <td>3</td>\n",
       "      <td>2</td>\n",
       "    </tr>\n",
       "    <tr>\n",
       "      <td>4</td>\n",
       "      <td>4</td>\n",
       "      <td>0</td>\n",
       "    </tr>\n",
       "  </tbody>\n",
       "</table>\n",
       "</div>"
      ],
      "text/plain": [
       "   source  target\n",
       "0       1       0\n",
       "1       2       0\n",
       "2       3       0\n",
       "3       3       2\n",
       "4       4       0"
      ]
     },
     "execution_count": 5,
     "metadata": {},
     "output_type": "execute_result"
    }
   ],
   "source": [
    "df_edge.head()"
   ]
  },
  {
   "cell_type": "code",
   "execution_count": 6,
   "metadata": {},
   "outputs": [],
   "source": [
    "#Extract list\n",
    "labels = df_node['name'].tolist()\n",
    "color_node = [0.0 for i in range(len(labels))]\n",
    "urls = df_node['url'].tolist()\n",
    "Edges = df_edge[['source','target']].values.tolist()\n",
    "\n",
    "G = ig.Graph(Edges, directed=False)\n",
    "layt = G.layout('kk', dim=3)"
   ]
  },
  {
   "cell_type": "code",
   "execution_count": 7,
   "metadata": {},
   "outputs": [],
   "source": [
    "#Coordinates for the nodes and edges\n",
    "Xn = [layt[k][0] for k in range(N)]\n",
    "Yn = [layt[k][1] for k in range(N)]\n",
    "Zn = [layt[k][2] for k in range(N)]\n",
    "Xe = []\n",
    "Ye = []\n",
    "Ze = []\n",
    "for e in Edges:\n",
    "    Xe += [layt[e[0]][0],layt[e[1]][0], None]\n",
    "    Ye += [layt[e[0]][1],layt[e[1]][1], None]\n",
    "    Ze += [layt[e[0]][2],layt[e[1]][2], None]"
   ]
  },
  {
   "cell_type": "code",
   "execution_count": 8,
   "metadata": {},
   "outputs": [],
   "source": [
    "#Plot the edges\n",
    "trace1 = go.Scatter3d(x=Xe,\n",
    "               y=Ye,\n",
    "               z=Ze,\n",
    "               mode='lines',\n",
    "               line=dict(color='rgb(125,125,125)', width=1),\n",
    "               hoverinfo='none'\n",
    "               )\n",
    "#Plot the nodes\n",
    "trace2 = go.Scatter3d(x=Xn,\n",
    "               y=Yn,\n",
    "               z=Zn,\n",
    "               mode='markers',\n",
    "               name='actors',\n",
    "               marker=dict(symbol='circle',\n",
    "                             size=6,\n",
    "                             color=color_node,\n",
    "                             colorscale='YlOrRd',\n",
    "                             line=dict(color='rgb(50,50,50)', width=0.5)\n",
    "                             ),\n",
    "               text=labels,\n",
    "               hoverinfo='text',\n",
    "            customdata=urls\n",
    "       )\n",
    "\n",
    "axis = dict(showbackground=False,\n",
    "          showline=False,\n",
    "          zeroline=False,\n",
    "          showgrid=False,\n",
    "          showticklabels=False,\n",
    "          title=''\n",
    "          )\n",
    "\n",
    "layout = go.Layout(\n",
    "         title=\"Wikipedia Recommender System\",\n",
    "         width=1000,\n",
    "         height=1000,\n",
    "         showlegend=False,\n",
    "         scene=dict(\n",
    "             xaxis=dict(axis),\n",
    "             yaxis=dict(axis),\n",
    "             zaxis=dict(axis),\n",
    "        ),\n",
    "     margin=dict(\n",
    "        t=100\n",
    "    ),\n",
    "    hovermode='closest',\n",
    "    annotations=[\n",
    "           dict(\n",
    "           showarrow=False,\n",
    "            text='By clicking on a node, you will be directed on the corresponding web page.',\n",
    "            xref='paper',\n",
    "            yref='paper',\n",
    "            x=0,\n",
    "            y=0,\n",
    "            xanchor='left',\n",
    "            yanchor='bottom',\n",
    "            font=dict(\n",
    "            size=14\n",
    "            )\n",
    "            )\n",
    "        ],\n",
    "  )\n",
    "\n",
    "g = go.FigureWidget(data=[trace1, trace2],layout=layout)"
   ]
  },
  {
   "cell_type": "code",
   "execution_count": 9,
   "metadata": {},
   "outputs": [],
   "source": [
    "#Text Box for the query\n",
    "textbox = widgets.Text(\n",
    "    value='',\n",
    "    placeholder='Type something',\n",
    "    description='Query:',\n",
    "    disabled=False\n",
    ")\n",
    "\n",
    "#On a new query, compute the predictions and color the nodes accordingly\n",
    "def response(change):\n",
    "    query = textbox.value\n",
    "#     preds = make_prediction(query)\n",
    "#     dict_colors = compute_color(preds)\n",
    "# key is node index, and value is an integer for the color\n",
    "    dict_colors = {10:0.2,11:0.2}\n",
    "    for k,v in dict_colors.items():\n",
    "        color_node[k] = v\n",
    "        \n",
    "    with g.batch_update():\n",
    "        g.data[1].marker.color = color_node\n",
    "        \n",
    "textbox.observe(response, names=\"value\")"
   ]
  },
  {
   "cell_type": "code",
   "execution_count": 10,
   "metadata": {},
   "outputs": [],
   "source": [
    "# Open url when clicking on node\n",
    "def update_point(trace, points, selector):\n",
    "    if len(points.point_inds) != 0:\n",
    "        url = g.data[1].customdata[points.point_inds[0]]\n",
    "        webbrowser.open_new_tab(url)\n",
    "\n",
    "g.data[1].on_click(update_point)"
   ]
  },
  {
   "cell_type": "code",
   "execution_count": 11,
   "metadata": {},
   "outputs": [
    {
     "data": {
      "application/vnd.jupyter.widget-view+json": {
       "model_id": "7c0c0e7f90d14841a35a64ba70bb486b",
       "version_major": 2,
       "version_minor": 0
      },
      "text/plain": [
       "VBox(children=(HBox(children=(Text(value='', description='Query:', placeholder='Type something'),)), FigureWid…"
      ]
     },
     "metadata": {},
     "output_type": "display_data"
    }
   ],
   "source": [
    "container = widgets.HBox(children=[textbox])\n",
    "widgets.VBox([container, g])"
   ]
  }
 ],
 "metadata": {
  "kernelspec": {
   "display_name": "Python 3",
   "language": "python",
   "name": "python3"
  },
  "language_info": {
   "codemirror_mode": {
    "name": "ipython",
    "version": 3
   },
   "file_extension": ".py",
   "mimetype": "text/x-python",
   "name": "python",
   "nbconvert_exporter": "python",
   "pygments_lexer": "ipython3",
   "version": "3.6.8"
  }
 },
 "nbformat": 4,
 "nbformat_minor": 4
}
